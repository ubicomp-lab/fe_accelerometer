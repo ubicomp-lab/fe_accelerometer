{
 "cells": [
  {
   "cell_type": "code",
   "execution_count": 1,
   "metadata": {
    "ExecuteTime": {
     "end_time": "2020-04-21T18:38:51.185885Z",
     "start_time": "2020-04-21T18:38:49.496417Z"
    },
    "code_folding": [
     7
    ]
   },
   "outputs": [],
   "source": [
    "import pandas as pd\n",
    "import datetime\n",
    "import numpy as np\n",
    "import pytz\n",
    "import scipy\n",
    "import matplotlib.pyplot as plt\n",
    "from collections import OrderedDict\n",
    "from numpy import linalg as LA\n",
    "import time\n",
    "from matplotlib import style\n",
    "from scipy import signal\n",
    "from scipy import fftpack\n",
    "import pywt\n",
    "\n",
    "\n",
    "style.use('dark_background')"
   ]
  },
  {
   "cell_type": "markdown",
   "metadata": {},
   "source": [
    "# Accelerometer Data Feature Extraction"
   ]
  },
  {
   "cell_type": "markdown",
   "metadata": {},
   "source": [
    "### 1) Reading John Doe's Accelerometer data "
   ]
  },
  {
   "cell_type": "code",
   "execution_count": 2,
   "metadata": {
    "ExecuteTime": {
     "end_time": "2020-04-21T18:39:05.912304Z",
     "start_time": "2020-04-21T18:38:52.362444Z"
    },
    "scrolled": true
   },
   "outputs": [],
   "source": [
    "df_acc = pd.read_csv(\"../../../data/johndoe.csv\", header=None)\n",
    "df_acc.columns = ['_id1', '_id2', 'timestamp', 'device_id', 'double_x', 'double_y', 'double_z', 'accuracy', 'label']\n",
    "df_acc.device_id='John Doe'\n",
    "df_acc = df_acc.sort_values(by=['timestamp']).reset_index(drop=True)[['timestamp', 'device_id', 'double_x', 'double_y', 'double_z', 'accuracy', 'label']]\n",
    "# df_acc = df_acc[0:100000]"
   ]
  },
  {
   "cell_type": "code",
   "execution_count": 3,
   "metadata": {
    "ExecuteTime": {
     "end_time": "2020-04-21T18:39:05.921128Z",
     "start_time": "2020-04-21T18:39:05.914572Z"
    }
   },
   "outputs": [],
   "source": [
    "def ecdfRep(data, components):\n",
    "    #\n",
    "    #   rep = ecdfRep(data, components)\n",
    "    #\n",
    "    #   Estimate ecdf-representation according to \n",
    "    #     Hammerla, Nils Y., et al. \"On preserving statistical characteristics of \n",
    "    #     accelerometry data using their empirical cumulative distribution.\" \n",
    "    #     ISWC. ACM, 2013.\n",
    "    #\n",
    "    #   Input: \n",
    "    #       data        Nxd     Input data (rows = samples).\n",
    "    #       components  int     Number of components to extract per axis.\n",
    "    #\n",
    "    #   Output:\n",
    "    #       rep         Mx1     Data representation with M = d*components+d\n",
    "    #                           elements.\n",
    "    #\n",
    "    #   Nils Hammerla '15\n",
    "    #\n",
    "        m = data.mean(0)\n",
    "        data = np.sort(data, axis=0)\n",
    "        data = data[np.int32(np.around(np.linspace(0,data.shape[0]-1,num=components))),:]\n",
    "        data = data.flatten(1)\n",
    "        return np.hstack((data, m))"
   ]
  },
  {
   "cell_type": "code",
   "execution_count": 4,
   "metadata": {
    "ExecuteTime": {
     "end_time": "2020-04-21T18:39:05.965506Z",
     "start_time": "2020-04-21T18:39:05.924727Z"
    }
   },
   "outputs": [],
   "source": [
    "\"\"\"\n",
    "modes \n",
    "0 - time domain only\n",
    "1 - time + frequency domain\n",
    "2 - time + frequency + stats\n",
    "3 - statistical methods only3\n",
    "\"\"\"\n",
    "def featurize_window(df_fw, feature_list, mode, window_size_in_minutes):\n",
    "    local_dict = OrderedDict()\n",
    "    \n",
    "    \n",
    "    if mode > 0 and mode < 3:\n",
    "        if df_fw.index.size >= (30*window_size_in_minutes):\n",
    "            f_x = scipy.interpolate.interp1d(df_fw.timestamp, df_fw.double_x)\n",
    "            f_y = scipy.interpolate.interp1d(df_fw.timestamp, df_fw.double_y)\n",
    "            f_z = scipy.interpolate.interp1d(df_fw.timestamp, df_fw.double_z)\n",
    "            r = np.sqrt(df_fw.double_x**2 + df_fw.double_y**2 + df_fw.double_z**2)\n",
    "            f_r = scipy.interpolate.interp1d(df_fw.timestamp, r)\n",
    "            xnew = []\n",
    "            step = (df_fw.timestamp.iloc[-1] - df_fw.timestamp.iloc[0]) /df_fw.index.size\n",
    "            for ti in range(df_fw.timestamp.iloc[0], df_fw.timestamp.iloc[-1], int(step)):\n",
    "                xnew.append(ti)\n",
    "            \n",
    "            f_fs = window_size_in_minutes * 60 / df_fw.index.size\n",
    "            L = 512 # change it to 512\n",
    "            local_dict.update({'skip_fft':True, 'fx': f_x(xnew), 'fy': f_y(xnew), 'fz': f_z(xnew), 'fr': f_r(xnew), 'fs': f_fs, 'L': L})\n",
    "        else:\n",
    "            local_dict.update({'skip_fft':False})\n",
    "        if df_fw.index.size == 0:\n",
    "            local_dict['skip_td'] = False\n",
    "        else:\n",
    "            local_dict['skip_td'] = True\n",
    "            \n",
    "    if mode == 0:\n",
    "        local_dict['skip_fft'] = True\n",
    "    if mode == 3:\n",
    "        local_dict['skip_fft'] = True\n",
    "        local_dict['skip_td'] = True\n",
    "\n",
    "        \n",
    "    feat_dict = OrderedDict()\n",
    "\n",
    "    \n",
    "\n",
    "    for feature in feature_list:\n",
    "        if feature == 'int_desc':\n",
    "            if local_dict['skip_td']:\n",
    "                int_desc = np.sqrt((df_fw.double_x ** 2).describe() + (df_fw.double_y **2).describe() + (df_fw.double_z ** 2).describe())\n",
    "                feat_dict.update({'int_mean': int_desc[1], 'int_std': int_desc[2], \n",
    "                                  'int_min': int_desc[3],'int_25': int_desc[4], 'int_50': int_desc[5],'int_75': int_desc[6]})\n",
    "            else:\n",
    "                feat_dict.update({'int_mean': np.nan, 'int_std': np.nan, \n",
    "                                  'int_min': np.nan,'int_25': np.nan, 'int_50': np.nan,'int_75': np.nan})\n",
    "        elif feature == 'int_rms':\n",
    "            if local_dict['skip_td']:\n",
    "                int_rms = np.sqrt((df_fw.double_x**2).sum() + (df_fw.double_y**2).sum() + (df_fw.double_z**2).sum()) / np.sqrt(df_fw.index.size)\n",
    "                feat_dict.update({'int_rms':int_rms})\n",
    "            else:\n",
    "                feat_dict.update({'int_rms': np.nan})\n",
    "        elif feature == 'mag_desc':\n",
    "            if local_dict['skip_td']:\n",
    "                mag_desc = np.sqrt(df_fw.double_x**2 + df_fw.double_y**2 + df_fw.double_z**2).describe()\n",
    "                feat_dict.update({'mag_mean': mag_desc[1], 'mag_std': mag_desc[2], 'mag_min': mag_desc[3],\n",
    "                                  'mag_25': mag_desc[4], 'mag_50': mag_desc[5],'mag_75': mag_desc[6]})\n",
    "            else:\n",
    "                feat_dict.update({'mag_mean': np.nan, 'mag_std': np.nan, 'mag_min': np.nan,\n",
    "                  'mag_25': np.nan, 'mag_50': np.nan,'mag_75': np.nan})\n",
    "        elif feature == 'pear_coef':\n",
    "            if local_dict['skip_td']:\n",
    "                cov_matrix =  np.cov(np.stack((df_fw.double_x,df_fw.double_y, df_fw.double_z), axis=0))\n",
    "                pear_coef_xy = cov_matrix[0,1] / (df_fw.double_x.std() * df_fw.double_y.std())\n",
    "                pear_coef_yz = cov_matrix[1,2] / (df_fw.double_y.std() * df_fw.double_z.std())\n",
    "                pear_coef_xz = cov_matrix[0,2] / (df_fw.double_x.std() * df_fw.double_z.std())\n",
    "                feat_dict.update({'pear_coef_xy':pear_coef_xy, 'pear_coef_yz':pear_coef_yz,'pear_coef_xz':pear_coef_xz })\n",
    "            else:\n",
    "                feat_dict.update({'pear_coef_xy':np.nan, 'pear_coef_yz':np.nan,'pear_coef_xz':np.nan})\n",
    "        elif feature == 'sma':\n",
    "            if local_dict['skip_td']:\n",
    "                sma = (np.abs(df_fw.double_x.to_numpy()).sum() + np.abs(df_fw.double_y.to_numpy()).sum() + np.abs(df_fw.double_z.to_numpy()).sum()) / df_fw.index.size\n",
    "                feat_dict.update({'sma':sma})\n",
    "            else:\n",
    "                feat_dict.update({'sma':np.nan})\n",
    "        elif feature == 'svm':\n",
    "            if local_dict['skip_td']:\n",
    "                svm = np.sqrt(df_fw.double_x**2 + df_fw.double_y**2 + df_fw.double_z**2).sum() / df_fw.index.size\n",
    "                feat_dict.update({'svm':svm})\n",
    "            else:\n",
    "                feat_dict.update({'svm':np.nan})\n",
    "        elif feature == 'fft':\n",
    "            if local_dict['skip_fft']:\n",
    "                L = local_dict['L']\n",
    "                dfx = fftpack.fft(local_dict['fx'], 512)\n",
    "                dfy = fftpack.fft(local_dict['fy'], 512)\n",
    "                dfz = fftpack.fft(local_dict['fz'], 512)\n",
    "                dfr = fftpack.fft(local_dict['fr'], 512)\n",
    "                # DC component\n",
    "                # Remove the L part!\n",
    "                feat_dict.update({'fdc_x': np.mean(np.real(dfx)), 'fdc_y': np.mean(np.real(dfy)),\n",
    "                                  'fdc_z':  np.mean(np.real(dfz)), 'fdc_r':  np.mean(np.real(dfr))})\n",
    "                # Energy\n",
    "                feat_dict.update({'feng_x': (np.sum(np.real(dfx)**2 + np.imag(dfx)**2)) / L, 'feng_y': (np.sum(np.real(dfy)**2 + np.imag(dfy)**2)) / L,\n",
    "                                  'feng_z':  (np.sum(np.real(dfz)**2 + np.imag(dfz)**2)) / L, 'feng_r':  (np.sum(np.real(dfr)**2 + np.imag(dfr)**2)) / L})\n",
    "                # Entropy\n",
    "                ck_x = np.sqrt(np.real(dfx)**2  + np.imag(dfx)**2)\n",
    "                cj_x = ck_x / np.sum(ck_x)\n",
    "                e_x = np.sum(cj_x * np.log(cj_x))\n",
    "                \n",
    "                ck_y = np.sqrt(np.real(dfy)**2  + np.imag(dfy)**2)\n",
    "                cj_y = ck_y / np.sum(ck_y)\n",
    "                e_y = np.sum(cj_y * np.log(cj_y))\n",
    "                \n",
    "                ck_z = np.sqrt(np.real(dfz)**2  + np.imag(dfz)**2)\n",
    "                cj_z = ck_z / np.sum(ck_z)\n",
    "                e_z = np.sum(cj_z * np.log(cj_z))\n",
    "                \n",
    "                ck_r = np.sqrt(np.real(dfr)**2  + np.imag(dfr)**2)\n",
    "                cj_r = ck_r / np.sum(ck_r)\n",
    "                e_r = np.sum(cj_r * np.log(cj_r))\n",
    "                \n",
    "                feat_dict.update({'fent_x': e_x, 'fent_y':  e_y,'fent_z':  e_z, 'fent_r': e_r})\n",
    "                \n",
    "                # Correlation\n",
    "                # Fix the length, should be FFT wndow size 512\n",
    "            \n",
    "                fcorr_xy = np.dot(np.real(dfx) / L, np.real(dfy) / L)\n",
    "                fcorr_xz = np.dot(np.real(dfx) / L, np.real(dfz) / L)\n",
    "                fcorr_yz = np.dot(np.real(dfy) / L, np.real(dfz) / L)\n",
    "                \n",
    "                feat_dict.update({'fcorr_xy': fcorr_xy,'fcorr_xz':  fcorr_xz, 'fcorr_yz': fcorr_yz})\n",
    "                \n",
    "            else:\n",
    "                feat_dict.update({'fdc_x': np.nan, 'fdc_y':  np.nan,'fdc_z':  np.nan, 'fdc_r': np.nan})\n",
    "                feat_dict.update({'feng_x':  np.nan, 'feng_y':  np.nan, 'feng_z':   np.nan, 'feng_r':   np.nan})\n",
    "                feat_dict.update({'fent_x': np.nan, 'fent_y':  np.nan,'fent_z':  np.nan, 'fent_r': np.nan})\n",
    "                feat_dict.update({'fcorr_xy': np.nan,'fcorr_xz':  np.nan, 'fcorr_yz': np.nan})\n",
    "        elif feature == 'psd':\n",
    "            if local_dict['skip_fft']:\n",
    "                fs = local_dict['fs']\n",
    "                psd_window = signal.get_window('boxcar', len(local_dict['fx'])) # do not pass this window\n",
    "                freqs_x, pxx_denx = signal.periodogram(local_dict['fx'], window=psd_window, fs=fs)\n",
    "                freqs_y, pxx_deny = signal.periodogram(local_dict['fy'], window=psd_window, fs=fs)\n",
    "                freqs_z, pxx_denz = signal.periodogram(local_dict['fz'], window=psd_window, fs=fs)\n",
    "                freqs_r, pxx_denr = signal.periodogram(local_dict['fr'], window=psd_window, fs=fs)\n",
    "                feat_dict.update({'psd_mean_x': np.mean(pxx_denx), 'psd_mean_y': np.mean(pxx_deny),\n",
    "                                  'psd_mean_z': np.mean(pxx_denz), 'psd_mean_r': np.mean(pxx_denr)})\n",
    "                \n",
    "                feat_dict.update({'psd_max_x': np.max(pxx_denx), \n",
    "                                  'psd_max_y': np.max(pxx_deny),\n",
    "                                  'psd_max_z': np.max(pxx_denz), \n",
    "                                  'psd_max_r': np.max(pxx_denr)})\n",
    "                \n",
    "                \n",
    "                freqs_05_3_x = np.argwhere((freqs_x >= 0.5) & (freqs_x <= 3))\n",
    "                freqs_05_3_y = np.argwhere((freqs_y >= 0.5) & (freqs_y <= 3))\n",
    "                freqs_05_3_z = np.argwhere((freqs_z >= 0.5) & (freqs_z <= 3))\n",
    "                freqs_05_3_r = np.argwhere((freqs_r >= 0.5) & (freqs_r <= 3))\n",
    "                \n",
    "                \n",
    "                # max b/w 0.3 - 3Hz \n",
    "                # 0.5 - 3 Hz if missing, maybe not 0.0\n",
    "                feat_dict.update({'psd_max_x_05_3': np.max(pxx_denx[freqs_05_3_x]) if freqs_05_3_x.any() else 0.0, \n",
    "                  'psd_max_y_05_3': np.max(pxx_deny[freqs_05_3_y]) if freqs_05_3_y.any() else 0.0,\n",
    "                  'psd_max_z_05_3': np.max(pxx_denz[freqs_05_3_z]) if freqs_05_3_z.any() else 0.0,\n",
    "                  'psd_max_r_05_3': np.max(pxx_denr[freqs_05_3_r]) if freqs_05_3_r.any() else 0.0})\n",
    "            else:\n",
    "                feat_dict.update({'psd_mean_x': np.nan, 'psd_mean_y':np.nan,\n",
    "                                  'psd_mean_z': np.nan, 'psd_mean_r': np.nan})\n",
    "                feat_dict.update({'psd_max_x': np.nan, \n",
    "                                  'psd_max_y': np.nan,\n",
    "                                  'psd_max_z': np.nan, \n",
    "                                  'psd_max_r': np.nan})\n",
    "        elif feature == 'lmbs':\n",
    "            if local_dict['skip_td']:\n",
    "                lmb_f_05_3 = np.linspace(0.5, 3, 10000)\n",
    "                lmb_psd_x = signal.lombscargle(df_fw.timestamp, df_fw.double_x, lmb_f_05_3, normalize=False)\n",
    "                lmb_psd_y = signal.lombscargle(df_fw.timestamp, df_fw.double_y, lmb_f_05_3, normalize=False)\n",
    "                lmb_psd_z = signal.lombscargle(df_fw.timestamp, df_fw.double_z, lmb_f_05_3, normalize=False)\n",
    "                \n",
    "                feat_dict.update({'lmb_psd_max_x_05_3': np.max(lmb_psd_x) if lmb_psd_x.any() else 0.0, \n",
    "                  'lmb_psd_max_y_05_3': np.max(lmb_psd_y) if lmb_psd_y.any() else 0.0,\n",
    "                  'lmb_psd_max_z_05_3': np.max(lmb_psd_z) if lmb_psd_z.any() else 0.0})\n",
    "            else:\n",
    "                feat_dict.update({'lmb_psd_max_x_05_3': np.nan, \n",
    "                  'lmb_psd_max_y_05_3': np.nan,\n",
    "                  'lmb_psd_max_z_05_3': np.nan})\n",
    "                \n",
    "                \n",
    "    return feat_dict"
   ]
  },
  {
   "cell_type": "code",
   "execution_count": 5,
   "metadata": {
    "ExecuteTime": {
     "end_time": "2020-04-21T18:39:05.982414Z",
     "start_time": "2020-04-21T18:39:05.967442Z"
    }
   },
   "outputs": [],
   "source": [
    "# acc_features = ['int_desc', 'int_rms', 'mag_desc', 'pear_coef', 'sma', 'svm', 'ecdf_5', 'fft', 'psd', 'lmbs']\n",
    "acc_features = ['int_desc', 'int_rms', 'mag_desc', 'pear_coef', 'sma', 'svm', 'ecdf_5', 'fft', 'psd']\n",
    "\n",
    "\n",
    "def init_window_feature_df():\n",
    "    return pd.DataFrame(columns= ['_window_id', 'start_time', 'end_time'])\n",
    "\n",
    "\n",
    "def acc_windowizer(df_acc_sample, mode, window_size_in_minutes):\n",
    "    window = 0\n",
    "    window_start_time = df_acc_sample.timestamp.iloc[0]\n",
    "    window_end_time = df_acc_sample.timestamp.iloc[-1]\n",
    "    window_next_time = window_start_time + (datetime.timedelta(minutes=window_size_in_minutes).seconds * 10**3)\n",
    "    window_id = 0\n",
    "    window_start_index = 0\n",
    "    df_acc_sample['window_id'] = -1\n",
    "    df_feature_windows = init_window_feature_df()\n",
    "    estimated_windows = (df_acc.timestamp.iloc[-1] - df_acc.timestamp.iloc[0]) / (window_size_in_minutes * 60000)\n",
    "    print(\"Estimated no. of windows: \", estimated_windows)\n",
    "    \n",
    "    \n",
    "\n",
    "    while window_next_time < window_end_time:\n",
    "        window += 1\n",
    "        print(\"window: \", window)\n",
    "        print(\"Percentage: \", (window/estimated_windows) * 100, \"%\")\n",
    "        window_indices = df_acc_sample.iloc[window_start_index:].timestamp < window_next_time\n",
    "        df_acc_sample.window_id.iloc[window_start_index:][window_indices] = window_id\n",
    "        feature_dict = featurize_window(df_acc_sample.iloc[window_start_index:][window_indices], acc_features, mode, window_size_in_minutes)\n",
    "        feature_dict.update({'_window_id': window_id, 'start_time': window_start_time, 'end_time': window_next_time - 1, 'sample_count':window_indices[window_indices].index.size})\n",
    "        df_feature_windows = df_feature_windows.append(feature_dict, ignore_index=True)\n",
    "        window_start_time = window_next_time\n",
    "        window_next_time = window_next_time + (datetime.timedelta(minutes=window_size_in_minutes).seconds * 10**3)\n",
    "        window_id = window_id + 1\n",
    "        window_start_index = window_indices[~window_indices].index[0]\n",
    "\n",
    "    window_indices = df_acc_sample.iloc[window_start_index:].timestamp < window_next_time\n",
    "    feature_dict = featurize_window(df_acc_sample.iloc[window_start_index:], acc_features, mode, window_size_in_minutes)\n",
    "    df_acc_sample.window_id.iloc[window_start_index:][window_indices] = window_id\n",
    "    feature_dict.update({'_window_id': window_id, 'start_time': window_start_time, 'end_time': window_next_time, 'sample_count':window_indices[window_indices].index.size})\n",
    "    df_feature_windows = df_feature_windows.append(feature_dict, ignore_index=True)\n",
    "    df_feature_windows.start_time = df_feature_windows.start_time.astype(np.int64)\n",
    "    df_feature_windows.end_time = df_feature_windows.end_time.astype(np.int64)\n",
    "    df_feature_windows.sample_count = df_feature_windows.sample_count.astype(np.int64)\n",
    "    df_feature_windows._window_id = df_feature_windows._window_id.astype(np.int64)\n",
    "    return df_feature_windows, df_acc_sample"
   ]
  },
  {
   "cell_type": "code",
   "execution_count": null,
   "metadata": {
    "ExecuteTime": {
     "start_time": "2020-04-21T18:38:59.196Z"
    },
    "scrolled": true
   },
   "outputs": [
    {
     "name": "stdout",
     "output_type": "stream",
     "text": [
      "Estimated no. of windows:  38892.38306666667\n",
      "window:  1\n",
      "Percentage:  0.002571197548594202 %\n",
      "window:  2\n",
      "Percentage:  0.005142395097188404 %\n",
      "window:  3\n",
      "Percentage:  0.007713592645782606 %\n",
      "window:  4\n",
      "Percentage:  0.010284790194376808 %\n",
      "window:  5\n",
      "Percentage:  0.012855987742971012 %\n",
      "window:  6\n",
      "Percentage:  0.015427185291565212 %\n",
      "window:  7\n",
      "Percentage:  0.017998382840159415 %\n",
      "window:  8\n",
      "Percentage:  0.020569580388753617 %\n",
      "window:  9\n",
      "Percentage:  0.023140777937347822 %\n",
      "window:  10\n",
      "Percentage:  0.025711975485942024 %\n",
      "window:  11\n",
      "Percentage:  0.028283173034536226 %\n",
      "window:  12\n",
      "Percentage:  0.030854370583130425 %\n",
      "window:  13\n",
      "Percentage:  0.03342556813172463 %\n",
      "window:  14\n",
      "Percentage:  0.03599676568031883 %\n",
      "window:  15\n",
      "Percentage:  0.03856796322891303 %\n",
      "window:  16\n",
      "Percentage:  0.04113916077750723 %\n",
      "window:  17\n",
      "Percentage:  0.04371035832610144 %\n",
      "window:  18\n",
      "Percentage:  0.046281555874695644 %\n",
      "window:  19\n",
      "Percentage:  0.048852753423289846 %\n",
      "window:  20\n",
      "Percentage:  0.05142395097188405 %\n",
      "window:  21\n",
      "Percentage:  0.05399514852047825 %\n",
      "window:  22\n",
      "Percentage:  0.05656634606907245 %\n",
      "window:  23\n",
      "Percentage:  0.05913754361766665 %\n",
      "window:  24\n",
      "Percentage:  0.06170874116626085 %\n",
      "window:  25\n",
      "Percentage:  0.06427993871485504 %\n",
      "window:  26\n",
      "Percentage:  0.06685113626344925 %\n",
      "window:  27\n",
      "Percentage:  0.06942233381204346 %\n",
      "window:  28\n",
      "Percentage:  0.07199353136063766 %\n",
      "window:  29\n",
      "Percentage:  0.07456472890923187 %\n",
      "window:  30\n",
      "Percentage:  0.07713592645782606 %\n",
      "window:  31\n",
      "Percentage:  0.07970712400642027 %\n",
      "window:  32\n",
      "Percentage:  0.08227832155501447 %\n",
      "window:  33\n",
      "Percentage:  0.08484951910360868 %\n",
      "window:  34\n",
      "Percentage:  0.08742071665220288 %\n",
      "window:  35\n",
      "Percentage:  0.08999191420079708 %\n",
      "window:  36\n",
      "Percentage:  0.09256311174939129 %\n",
      "window:  37\n",
      "Percentage:  0.09513430929798548 %\n",
      "window:  38\n",
      "Percentage:  0.09770550684657969 %\n",
      "window:  39\n",
      "Percentage:  0.10027670439517389 %\n",
      "window:  40\n",
      "Percentage:  0.1028479019437681 %\n",
      "window:  41\n",
      "Percentage:  0.10541909949236229 %\n",
      "window:  42\n",
      "Percentage:  0.1079902970409565 %\n",
      "window:  43\n",
      "Percentage:  0.11056149458955068 %\n",
      "window:  44\n",
      "Percentage:  0.1131326921381449 %\n",
      "window:  45\n",
      "Percentage:  0.11570388968673909 %\n",
      "window:  46\n",
      "Percentage:  0.1182750872353333 %\n",
      "window:  47\n",
      "Percentage:  0.12084628478392752 %\n",
      "window:  48\n",
      "Percentage:  0.1234174823325217 %\n",
      "window:  49\n",
      "Percentage:  0.12598867988111592 %\n",
      "window:  50\n",
      "Percentage:  0.1285598774297101 %\n",
      "window:  51\n",
      "Percentage:  0.1311310749783043 %\n",
      "window:  52\n",
      "Percentage:  0.1337022725268985 %\n",
      "window:  53\n",
      "Percentage:  0.13627347007549273 %\n",
      "window:  54\n",
      "Percentage:  0.13884466762408693 %\n",
      "window:  55\n",
      "Percentage:  0.14141586517268112 %\n",
      "window:  56\n",
      "Percentage:  0.14398706272127532 %\n",
      "window:  57\n",
      "Percentage:  0.1465582602698695 %\n",
      "window:  58\n",
      "Percentage:  0.14912945781846373 %\n",
      "window:  59\n",
      "Percentage:  0.15170065536705793 %\n",
      "window:  60\n",
      "Percentage:  0.15427185291565212 %\n",
      "window:  61\n",
      "Percentage:  0.15684305046424635 %\n",
      "window:  62\n",
      "Percentage:  0.15941424801284054 %\n",
      "window:  63\n",
      "Percentage:  0.16198544556143474 %\n",
      "window:  64\n",
      "Percentage:  0.16455664311002893 %\n",
      "window:  65\n",
      "Percentage:  0.16712784065862316 %\n",
      "window:  66\n",
      "Percentage:  0.16969903820721735 %\n",
      "window:  67\n",
      "Percentage:  0.17227023575581155 %\n",
      "window:  68\n",
      "Percentage:  0.17484143330440577 %\n",
      "window:  69\n",
      "Percentage:  0.17741263085299996 %\n",
      "window:  70\n",
      "Percentage:  0.17998382840159416 %\n",
      "window:  71\n",
      "Percentage:  0.18255502595018835 %\n",
      "window:  72\n",
      "Percentage:  0.18512622349878258 %\n",
      "window:  73\n",
      "Percentage:  0.18769742104737674 %\n",
      "window:  74\n",
      "Percentage:  0.19026861859597097 %\n",
      "window:  75\n",
      "Percentage:  0.19283981614456516 %\n",
      "window:  76\n",
      "Percentage:  0.19541101369315939 %\n",
      "window:  77\n",
      "Percentage:  0.19798221124175358 %\n",
      "window:  78\n",
      "Percentage:  0.20055340879034778 %\n",
      "window:  79\n",
      "Percentage:  0.20312460633894197 %\n",
      "window:  80\n",
      "Percentage:  0.2056958038875362 %\n",
      "window:  81\n",
      "Percentage:  0.2082670014361304 %\n",
      "window:  82\n",
      "Percentage:  0.21083819898472458 %\n",
      "window:  83\n",
      "Percentage:  0.2134093965333188 %\n",
      "window:  84\n",
      "Percentage:  0.215980594081913 %\n",
      "window:  85\n",
      "Percentage:  0.2185517916305072 %\n",
      "window:  86\n",
      "Percentage:  0.22112298917910136 %\n",
      "window:  87\n",
      "Percentage:  0.22369418672769562 %\n",
      "window:  88\n",
      "Percentage:  0.2262653842762898 %\n",
      "window:  89\n",
      "Percentage:  0.22883658182488398 %\n",
      "window:  90\n",
      "Percentage:  0.23140777937347817 %\n",
      "window:  91\n",
      "Percentage:  0.23397897692207242 %\n",
      "window:  92\n",
      "Percentage:  0.2365501744706666 %\n",
      "window:  93\n",
      "Percentage:  0.23912137201926079 %\n",
      "window:  94\n",
      "Percentage:  0.24169256956785504 %\n",
      "window:  95\n",
      "Percentage:  0.2442637671164492 %\n",
      "window:  96\n",
      "Percentage:  0.2468349646650434 %\n",
      "window:  97\n",
      "Percentage:  0.2494061622136376 %\n",
      "window:  98\n",
      "Percentage:  0.25197735976223185 %\n",
      "window:  99\n",
      "Percentage:  0.25454855731082604 %\n",
      "window:  100\n",
      "Percentage:  0.2571197548594202 %\n",
      "window:  101\n",
      "Percentage:  0.25969095240801443 %\n",
      "window:  102\n",
      "Percentage:  0.2622621499566086 %\n",
      "window:  103\n",
      "Percentage:  0.2648333475052028 %\n",
      "window:  104\n",
      "Percentage:  0.267404545053797 %\n",
      "window:  105\n",
      "Percentage:  0.26997574260239127 %\n",
      "window:  106\n",
      "Percentage:  0.27254694015098546 %\n",
      "window:  107\n",
      "Percentage:  0.2751181376995796 %\n",
      "window:  108\n",
      "Percentage:  0.27768933524817385 %\n",
      "window:  109\n",
      "Percentage:  0.28026053279676805 %\n",
      "window:  110\n",
      "Percentage:  0.28283173034536224 %\n",
      "window:  111\n",
      "Percentage:  0.28540292789395644 %\n",
      "window:  112\n",
      "Percentage:  0.28797412544255063 %\n",
      "window:  113\n",
      "Percentage:  0.2905453229911448 %\n",
      "window:  114\n",
      "Percentage:  0.293116520539739 %\n",
      "window:  115\n",
      "Percentage:  0.2956877180883333 %\n",
      "window:  116\n",
      "Percentage:  0.29825891563692747 %\n",
      "window:  117\n",
      "Percentage:  0.30083011318552166 %\n",
      "window:  118\n",
      "Percentage:  0.30340131073411586 %\n",
      "window:  119\n",
      "Percentage:  0.30597250828271005 %\n",
      "window:  120\n",
      "Percentage:  0.30854370583130425 %\n",
      "window:  121\n",
      "Percentage:  0.31111490337989844 %\n",
      "window:  122\n",
      "Percentage:  0.3136861009284927 %\n",
      "window:  123\n",
      "Percentage:  0.3162572984770869 %\n",
      "window:  124\n",
      "Percentage:  0.3188284960256811 %\n",
      "window:  125\n",
      "Percentage:  0.3213996935742753 %\n",
      "window:  126\n",
      "Percentage:  0.3239708911228695 %\n",
      "window:  127\n",
      "Percentage:  0.32654208867146367 %\n",
      "window:  128\n",
      "Percentage:  0.32911328622005787 %\n",
      "window:  129\n",
      "Percentage:  0.3316844837686521 %\n",
      "window:  130\n",
      "Percentage:  0.3342556813172463 %\n",
      "window:  131\n",
      "Percentage:  0.3368268788658405 %\n",
      "window:  132\n",
      "Percentage:  0.3393980764144347 %\n",
      "window:  133\n",
      "Percentage:  0.3419692739630289 %\n",
      "window:  134\n",
      "Percentage:  0.3445404715116231 %\n",
      "window:  135\n",
      "Percentage:  0.3471116690602173 %\n",
      "window:  136\n",
      "Percentage:  0.34968286660881154 %\n",
      "window:  137\n",
      "Percentage:  0.35225406415740573 %\n",
      "window:  138\n",
      "Percentage:  0.35482526170599993 %\n",
      "window:  139\n",
      "Percentage:  0.35739645925459407 %\n",
      "window:  140\n",
      "Percentage:  0.3599676568031883 %\n",
      "window:  141\n",
      "Percentage:  0.3625388543517825 %\n",
      "window:  142\n",
      "Percentage:  0.3651100519003767 %\n",
      "window:  143\n",
      "Percentage:  0.3676812494489709 %\n",
      "window:  144\n",
      "Percentage:  0.37025244699756515 %\n",
      "window:  145\n",
      "Percentage:  0.3728236445461593 %\n",
      "window:  146\n",
      "Percentage:  0.3753948420947535 %\n",
      "window:  147\n",
      "Percentage:  0.37796603964334774 %\n",
      "window:  148\n",
      "Percentage:  0.38053723719194193 %\n",
      "window:  149\n",
      "Percentage:  0.38310843474053613 %\n",
      "window:  150\n",
      "Percentage:  0.3856796322891303 %\n",
      "window:  151\n",
      "Percentage:  0.3882508298377245 %\n",
      "window:  152\n",
      "Percentage:  0.39082202738631877 %\n",
      "window:  153\n",
      "Percentage:  0.3933932249349129 %\n",
      "window:  154\n",
      "Percentage:  0.39596442248350716 %\n",
      "window:  155\n",
      "Percentage:  0.3985356200321013 %\n",
      "window:  156\n",
      "Percentage:  0.40110681758069555 %\n",
      "window:  157\n",
      "Percentage:  0.40367801512928975 %\n",
      "window:  158\n",
      "Percentage:  0.40624921267788394 %\n",
      "window:  159\n",
      "Percentage:  0.40882041022647814 %\n",
      "window:  160\n",
      "Percentage:  0.4113916077750724 %\n",
      "window:  161\n",
      "Percentage:  0.4139628053236665 %\n",
      "window:  162\n",
      "Percentage:  0.4165340028722608 %\n",
      "window:  163\n",
      "Percentage:  0.419105200420855 %\n",
      "window:  164\n",
      "Percentage:  0.42167639796944917 %\n",
      "window:  165\n",
      "Percentage:  0.42424759551804336 %\n",
      "window:  166\n",
      "Percentage:  0.4268187930666376 %\n",
      "window:  167\n",
      "Percentage:  0.42938999061523175 %\n",
      "window:  168\n",
      "Percentage:  0.431961188163826 %\n",
      "window:  169\n",
      "Percentage:  0.43453238571242014 %\n",
      "window:  170\n",
      "Percentage:  0.4371035832610144 %\n",
      "window:  171\n",
      "Percentage:  0.4396747808096086 %\n",
      "window:  172\n",
      "Percentage:  0.44224597835820273 %\n",
      "window:  173\n",
      "Percentage:  0.444817175906797 %\n",
      "window:  174\n",
      "Percentage:  0.44738837345539123 %\n"
     ]
    },
    {
     "name": "stdout",
     "output_type": "stream",
     "text": [
      "window:  175\n",
      "Percentage:  0.44995957100398537 %\n",
      "window:  176\n",
      "Percentage:  0.4525307685525796 %\n",
      "window:  177\n",
      "Percentage:  0.4551019661011738 %\n",
      "window:  178\n",
      "Percentage:  0.45767316364976796 %\n",
      "window:  179\n",
      "Percentage:  0.4602443611983622 %\n",
      "window:  180\n",
      "Percentage:  0.46281555874695635 %\n",
      "window:  181\n",
      "Percentage:  0.4653867562955506 %\n",
      "window:  182\n",
      "Percentage:  0.46795795384414485 %\n",
      "window:  183\n",
      "Percentage:  0.470529151392739 %\n",
      "window:  184\n",
      "Percentage:  0.4731003489413332 %\n",
      "window:  185\n",
      "Percentage:  0.47567154648992743 %\n",
      "window:  186\n",
      "Percentage:  0.47824274403852157 %\n",
      "window:  187\n",
      "Percentage:  0.4808139415871158 %\n",
      "window:  188\n",
      "Percentage:  0.4833851391357101 %\n",
      "window:  189\n",
      "Percentage:  0.4859563366843042 %\n",
      "window:  190\n",
      "Percentage:  0.4885275342328984 %\n",
      "window:  191\n",
      "Percentage:  0.49109873178149266 %\n",
      "window:  192\n",
      "Percentage:  0.4936699293300868 %\n",
      "window:  193\n",
      "Percentage:  0.49624112687868105 %\n",
      "window:  194\n",
      "Percentage:  0.4988123244272752 %\n",
      "window:  195\n",
      "Percentage:  0.5013835219758694 %\n",
      "window:  196\n",
      "Percentage:  0.5039547195244637 %\n",
      "window:  197\n",
      "Percentage:  0.5065259170730578 %\n",
      "window:  198\n",
      "Percentage:  0.5090971146216521 %\n",
      "window:  199\n",
      "Percentage:  0.5116683121702462 %\n",
      "window:  200\n",
      "Percentage:  0.5142395097188404 %\n",
      "window:  201\n",
      "Percentage:  0.5168107072674346 %\n",
      "window:  202\n",
      "Percentage:  0.5193819048160289 %\n",
      "window:  203\n",
      "Percentage:  0.521953102364623 %\n",
      "window:  204\n",
      "Percentage:  0.5245242999132173 %\n",
      "window:  205\n",
      "Percentage:  0.5270954974618115 %\n",
      "window:  206\n",
      "Percentage:  0.5296666950104056 %\n",
      "window:  207\n",
      "Percentage:  0.5322378925589999 %\n",
      "window:  208\n",
      "Percentage:  0.534809090107594 %\n",
      "window:  209\n",
      "Percentage:  0.5373802876561883 %\n",
      "window:  210\n",
      "Percentage:  0.5399514852047825 %\n",
      "window:  211\n",
      "Percentage:  0.5425226827533767 %\n",
      "window:  212\n",
      "Percentage:  0.5450938803019709 %\n",
      "window:  213\n",
      "Percentage:  0.5476650778505651 %\n",
      "window:  214\n",
      "Percentage:  0.5502362753991592 %\n",
      "window:  215\n",
      "Percentage:  0.5528074729477535 %\n",
      "window:  216\n",
      "Percentage:  0.5553786704963477 %\n",
      "window:  217\n",
      "Percentage:  0.5579498680449418 %\n",
      "window:  218\n",
      "Percentage:  0.5605210655935361 %\n",
      "window:  219\n",
      "Percentage:  0.5630922631421303 %\n",
      "window:  220\n",
      "Percentage:  0.5656634606907245 %\n",
      "window:  221\n",
      "Percentage:  0.5682346582393187 %\n",
      "window:  222\n",
      "Percentage:  0.5708058557879129 %\n",
      "window:  223\n",
      "Percentage:  0.5733770533365071 %\n",
      "window:  224\n",
      "Percentage:  0.5759482508851013 %\n",
      "window:  225\n",
      "Percentage:  0.5785194484336955 %\n",
      "window:  226\n",
      "Percentage:  0.5810906459822897 %\n",
      "window:  227\n",
      "Percentage:  0.5836618435308839 %\n",
      "window:  228\n",
      "Percentage:  0.586233041079478 %\n",
      "window:  229\n",
      "Percentage:  0.5888042386280723 %\n",
      "window:  230\n",
      "Percentage:  0.5913754361766665 %\n",
      "window:  231\n",
      "Percentage:  0.5939466337252607 %\n",
      "window:  232\n",
      "Percentage:  0.5965178312738549 %\n",
      "window:  233\n",
      "Percentage:  0.5990890288224491 %\n",
      "window:  234\n",
      "Percentage:  0.6016602263710433 %\n",
      "window:  235\n",
      "Percentage:  0.6042314239196376 %\n",
      "window:  236\n",
      "Percentage:  0.6068026214682317 %\n",
      "window:  237\n",
      "Percentage:  0.609373819016826 %\n",
      "window:  238\n",
      "Percentage:  0.6119450165654201 %\n",
      "window:  239\n",
      "Percentage:  0.6145162141140142 %\n",
      "window:  240\n",
      "Percentage:  0.6170874116626085 %\n",
      "window:  241\n",
      "Percentage:  0.6196586092112027 %\n",
      "window:  242\n",
      "Percentage:  0.6222298067597969 %\n",
      "window:  243\n",
      "Percentage:  0.6248010043083911 %\n",
      "window:  244\n",
      "Percentage:  0.6273722018569854 %\n",
      "window:  245\n",
      "Percentage:  0.6299433994055795 %\n",
      "window:  246\n",
      "Percentage:  0.6325145969541738 %\n",
      "window:  247\n",
      "Percentage:  0.6350857945027679 %\n",
      "window:  248\n",
      "Percentage:  0.6376569920513622 %\n",
      "window:  249\n",
      "Percentage:  0.6402281895999564 %\n",
      "window:  250\n",
      "Percentage:  0.6427993871485506 %\n",
      "window:  251\n",
      "Percentage:  0.6453705846971447 %\n",
      "window:  252\n",
      "Percentage:  0.647941782245739 %\n",
      "window:  253\n",
      "Percentage:  0.6505129797943331 %\n"
     ]
    }
   ],
   "source": [
    "df_feature_windows, df_acc_sample = acc_windowizer(df_acc, 2, 1)"
   ]
  },
  {
   "cell_type": "code",
   "execution_count": null,
   "metadata": {
    "ExecuteTime": {
     "end_time": "2020-04-15T03:53:56.544068Z",
     "start_time": "2020-04-15T03:53:56.536039Z"
    }
   },
   "outputs": [],
   "source": []
  },
  {
   "cell_type": "code",
   "execution_count": null,
   "metadata": {
    "ExecuteTime": {
     "end_time": "2020-04-15T03:54:06.041899Z",
     "start_time": "2020-04-15T03:54:06.035283Z"
    }
   },
   "outputs": [],
   "source": []
  },
  {
   "cell_type": "code",
   "execution_count": null,
   "metadata": {
    "ExecuteTime": {
     "end_time": "2020-04-12T20:31:49.700648Z",
     "start_time": "2020-04-12T20:31:49.687103Z"
    }
   },
   "outputs": [],
   "source": [
    "df_feature_windows.sample_count"
   ]
  },
  {
   "cell_type": "code",
   "execution_count": null,
   "metadata": {
    "ExecuteTime": {
     "end_time": "2020-04-12T20:31:49.717863Z",
     "start_time": "2020-04-12T20:31:49.704477Z"
    }
   },
   "outputs": [],
   "source": [
    "df_feature_windows.sample_count.describe()"
   ]
  },
  {
   "cell_type": "code",
   "execution_count": null,
   "metadata": {
    "ExecuteTime": {
     "end_time": "2020-04-12T20:31:49.732331Z",
     "start_time": "2020-04-12T20:31:49.720849Z"
    }
   },
   "outputs": [],
   "source": [
    "df_feature_windows.columns.tolist()"
   ]
  },
  {
   "cell_type": "code",
   "execution_count": null,
   "metadata": {
    "ExecuteTime": {
     "end_time": "2020-04-12T20:31:49.747179Z",
     "start_time": "2020-04-12T20:31:49.736883Z"
    }
   },
   "outputs": [],
   "source": [
    "cov_matrix = np.cov(np.stack((df_acc[0:100].double_x,  df_acc[0:100].double_y, df_acc[0:100].double_z), axis=0))"
   ]
  },
  {
   "cell_type": "code",
   "execution_count": null,
   "metadata": {
    "ExecuteTime": {
     "end_time": "2020-04-12T20:31:49.763724Z",
     "start_time": "2020-04-12T20:31:49.752725Z"
    }
   },
   "outputs": [],
   "source": [
    "cov_matrix / (df_acc[0:100].double_y.std()*df_acc[0:100].double_z.std())"
   ]
  },
  {
   "cell_type": "code",
   "execution_count": null,
   "metadata": {
    "ExecuteTime": {
     "end_time": "2020-04-12T20:31:49.774225Z",
     "start_time": "2020-04-12T20:31:49.766770Z"
    }
   },
   "outputs": [],
   "source": [
    "A = [12,16,13,18,19,12,18,19,12,14]\n",
    "B = [73,67,74,63,73,84,60,62,76,71]\n"
   ]
  },
  {
   "cell_type": "code",
   "execution_count": null,
   "metadata": {
    "ExecuteTime": {
     "end_time": "2020-04-12T20:31:49.788150Z",
     "start_time": "2020-04-12T20:31:49.777580Z"
    }
   },
   "outputs": [],
   "source": [
    "np.std(A)"
   ]
  },
  {
   "cell_type": "code",
   "execution_count": null,
   "metadata": {
    "ExecuteTime": {
     "end_time": "2020-04-12T20:31:49.805266Z",
     "start_time": "2020-04-12T20:31:49.792447Z"
    }
   },
   "outputs": [],
   "source": [
    "np.std(B)"
   ]
  },
  {
   "cell_type": "code",
   "execution_count": null,
   "metadata": {
    "ExecuteTime": {
     "end_time": "2020-04-12T20:31:49.820689Z",
     "start_time": "2020-04-12T20:31:49.808322Z"
    }
   },
   "outputs": [],
   "source": [
    "np.cov(np.stack((A, B), axis=0)) / (np.std(A, ddof=1) * np.std(B, ddof=1))"
   ]
  },
  {
   "cell_type": "code",
   "execution_count": null,
   "metadata": {},
   "outputs": [],
   "source": []
  },
  {
   "cell_type": "code",
   "execution_count": null,
   "metadata": {
    "ExecuteTime": {
     "end_time": "2020-04-12T20:31:49.839449Z",
     "start_time": "2020-04-12T20:31:49.825316Z"
    }
   },
   "outputs": [],
   "source": [
    "cov_matrix"
   ]
  },
  {
   "cell_type": "code",
   "execution_count": null,
   "metadata": {
    "ExecuteTime": {
     "end_time": "2020-04-12T20:31:49.858570Z",
     "start_time": "2020-04-12T20:31:49.847903Z"
    }
   },
   "outputs": [],
   "source": [
    "np.correlate(df_acc[0:100].double_x,df_acc[0:100].double_y )"
   ]
  },
  {
   "cell_type": "code",
   "execution_count": null,
   "metadata": {
    "ExecuteTime": {
     "end_time": "2020-04-12T20:31:49.873961Z",
     "start_time": "2020-04-12T20:31:49.864767Z"
    }
   },
   "outputs": [],
   "source": [
    "np.abs(df_acc[0:100].double_x.to_numpy()).sum() + "
   ]
  },
  {
   "cell_type": "code",
   "execution_count": null,
   "metadata": {
    "ExecuteTime": {
     "end_time": "2020-04-12T20:31:49.874942Z",
     "start_time": "2020-04-12T20:31:32.019Z"
    }
   },
   "outputs": [],
   "source": [
    "def stft(x, NFFT=256, fs=2.0, noverlap=128, windowfunc=hann, zeropadding=\"sandwich\"):\n",
    "    \"\"\"\n",
    "    Calculate the short-time fourier transform of an input signal x\n",
    "\n",
    "    Parameters\n",
    "    ----------\n",
    "    x : 1-D signal array\n",
    "    Preferrably a numpy array\n",
    "    NFFT : int\n",
    "    Desired frequency resolution in bins (default 256)\n",
    "    fs : float\n",
    "    Sampling rate in Hz (default 2.0)\n",
    "    noverlap : int\n",
    "    Number of samples to overlap analysis windows (default 128)\n",
    "    windowfunc : function\n",
    "    Window function to apply before fft analysis (default `scipy.signal.hann`)\n",
    "    zeropadding : string\n",
    "    What kind of zero-padding to apply to `x` before analysis. One of:\n",
    "    * \"after\": `pad_amnt` zeros are added to the end of `x`\n",
    "    * \"sandwich\": `NFFT/2` zeros are added to beginning of `x`, followed by\n",
    "    `NFFT/2 + pad_amnt` zeros added to the end of `x`\n",
    "    `pad_amnt` is the number of samples required to pad `x` to the nearest\n",
    "    integer multiple of `NFFT`. Default padding strategy is \"sandwich\", which\n",
    "    yields nice properties when lining up time indices\n",
    "    \"\"\"\n",
    "\n",
    "    if noverlap >= NFFT:\n",
    "        raise ValueError(\"`noverlap` (%d) must be less than or equal to `NFFT` (%d)\" % (noverlap, NFFT))\n",
    "    step = (NFFT - noverlap)\n",
    "    pad_amnt = step - len(x) % step\n",
    "\n",
    "    nlen = len(x) // step\n",
    "    NFFT_2 = NFFT // 2\n",
    "    P = empty((NFFT_2, nlen))\n",
    "    window = windowfunc(NFFT)\n",
    "\n",
    "    if zeropadding == \"sandwich\":\n",
    "        x = hstack((zeros(NFFT_2), x, zeros(NFFT_2 + pad_amnt)))\n",
    "    elif zeropadding == \"after\":\n",
    "        x = hstack((x, zeros(pad_amnt)))\n",
    "    else:\n",
    "        raise ValueError(\"Unrecognized `zeropadding` value: \" + zeropadding)\n",
    "\n",
    "    for idx in range(nlen):\n",
    "        x_slice = x[idx step:idx step + NFFT]\n",
    "        P[:, idx] = abs(fft(x_slice * window)[:NFFT_2])\n",
    "    return P"
   ]
  },
  {
   "cell_type": "code",
   "execution_count": null,
   "metadata": {
    "ExecuteTime": {
     "end_time": "2020-04-12T20:31:49.880568Z",
     "start_time": "2020-04-12T20:31:32.132Z"
    }
   },
   "outputs": [],
   "source": [
    "time.mktime(df_acc.timestamp.iloc[0]/1000)\n"
   ]
  },
  {
   "cell_type": "code",
   "execution_count": null,
   "metadata": {
    "ExecuteTime": {
     "end_time": "2020-04-12T20:31:49.881946Z",
     "start_time": "2020-04-12T20:31:32.263Z"
    }
   },
   "outputs": [],
   "source": [
    "time_window = 60"
   ]
  },
  {
   "cell_type": "code",
   "execution_count": null,
   "metadata": {
    "ExecuteTime": {
     "end_time": "2020-04-12T20:31:49.884348Z",
     "start_time": "2020-04-12T20:31:32.402Z"
    }
   },
   "outputs": [],
   "source": [
    "(df_acc.timestamp.iloc[-1] - df_acc.timestamp.iloc[0]) / (time_window * 60000)"
   ]
  },
  {
   "cell_type": "code",
   "execution_count": null,
   "metadata": {
    "ExecuteTime": {
     "end_time": "2020-02-02T23:47:50.018699Z",
     "start_time": "2020-02-02T23:47:50.005313Z"
    }
   },
   "outputs": [],
   "source": []
  },
  {
   "cell_type": "code",
   "execution_count": null,
   "metadata": {
    "ExecuteTime": {
     "end_time": "2020-04-12T20:31:49.886306Z",
     "start_time": "2020-04-12T20:31:33.294Z"
    }
   },
   "outputs": [],
   "source": [
    "cA, cD = pywt.dwt(df_acc[0:30].double_x, 'haar')"
   ]
  },
  {
   "cell_type": "code",
   "execution_count": null,
   "metadata": {
    "ExecuteTime": {
     "end_time": "2020-04-12T20:31:49.890647Z",
     "start_time": "2020-04-12T20:31:33.521Z"
    }
   },
   "outputs": [],
   "source": [
    "pd.DataFrame(cD).plot()"
   ]
  },
  {
   "cell_type": "code",
   "execution_count": null,
   "metadata": {
    "ExecuteTime": {
     "end_time": "2020-04-12T20:31:49.892709Z",
     "start_time": "2020-04-12T20:31:34.019Z"
    }
   },
   "outputs": [],
   "source": [
    "df_acc[0:30].double_x.plot()"
   ]
  },
  {
   "cell_type": "code",
   "execution_count": null,
   "metadata": {
    "ExecuteTime": {
     "end_time": "2020-04-12T20:31:49.897279Z",
     "start_time": "2020-04-12T20:31:34.318Z"
    }
   },
   "outputs": [],
   "source": [
    "def ecdfRep(data, components):\n",
    "    #\n",
    "    #   rep = ecdfRep(data, components)\n",
    "    #\n",
    "    #   Estimate ecdf-representation according to \n",
    "    #     Hammerla, Nils Y., et al. \"On preserving statistical characteristics of \n",
    "    #     accelerometry data using their empirical cumulative distribution.\" \n",
    "    #     ISWC. ACM, 2013.\n",
    "    #\n",
    "    #   Input: \n",
    "    #       data        Nxd     Input data (rows = samples).\n",
    "    #       components  int     Number of components to extract per axis.\n",
    "    #\n",
    "    #   Output:\n",
    "    #       rep         Mx1     Data representation with M = d*components+d\n",
    "    #                           elements.\n",
    "    #\n",
    "    #   Nils Hammerla '15\n",
    "    #\n",
    "    m = data.mean(0)\n",
    "    data = np.sort(data, axis=0)\n",
    "    data = data[np.int32(np.around(np.linspace(0,data.shape[0]-1,num=components))),:]\n",
    "    data = data.flatten(1)\n",
    "    return np.hstack((data, m))\n",
    "\n",
    "\n"
   ]
  },
  {
   "cell_type": "code",
   "execution_count": null,
   "metadata": {
    "ExecuteTime": {
     "end_time": "2020-04-12T20:31:49.900114Z",
     "start_time": "2020-04-12T20:31:34.690Z"
    }
   },
   "outputs": [],
   "source": [
    "a = np.random.randn(100,3)\n",
    "e1 = ecdfRep(a,10)\n",
    "print(e1)\n"
   ]
  },
  {
   "cell_type": "code",
   "execution_count": null,
   "metadata": {
    "ExecuteTime": {
     "end_time": "2020-04-12T20:31:49.903498Z",
     "start_time": "2020-04-12T20:31:35.246Z"
    }
   },
   "outputs": [],
   "source": [
    "df_feature_windows.sample_count.describe()"
   ]
  },
  {
   "cell_type": "code",
   "execution_count": null,
   "metadata": {
    "ExecuteTime": {
     "end_time": "2020-04-12T20:31:49.909848Z",
     "start_time": "2020-04-12T20:31:35.690Z"
    }
   },
   "outputs": [],
   "source": [
    "pd.DataFrame(a)[0].plot()"
   ]
  },
  {
   "cell_type": "code",
   "execution_count": null,
   "metadata": {
    "ExecuteTime": {
     "end_time": "2020-04-12T20:31:49.915109Z",
     "start_time": "2020-04-12T20:31:36.131Z"
    }
   },
   "outputs": [],
   "source": [
    "plt.plot(df_acc_sample[df_acc_sample.window_id==0].timestamp, df_acc_sample[df_acc_sample.window_id==0].double_x)"
   ]
  },
  {
   "cell_type": "code",
   "execution_count": null,
   "metadata": {
    "ExecuteTime": {
     "end_time": "2020-04-17T12:46:59.905879Z",
     "start_time": "2020-04-17T12:46:59.812019Z"
    }
   },
   "outputs": [],
   "source": [
    "f = scipy.interpolate.interp1d(df_acc_sample[df_acc_sample.window_id==0].timestamp, df_acc_sample[df_acc_sample.window_id==0].double_x)"
   ]
  },
  {
   "cell_type": "code",
   "execution_count": null,
   "metadata": {
    "ExecuteTime": {
     "end_time": "2020-04-17T12:47:02.030855Z",
     "start_time": "2020-04-17T12:47:02.011454Z"
    }
   },
   "outputs": [],
   "source": [
    "df_acc_sample[df_acc_sample.window_id==0].double_x**2 + df_acc_sample[df_acc_sample.window_id==0].double_y**2+ df_acc_sample[df_acc_sample.window_id==0].double_z**2"
   ]
  },
  {
   "cell_type": "code",
   "execution_count": null,
   "metadata": {
    "ExecuteTime": {
     "end_time": "2020-04-17T12:47:05.005479Z",
     "start_time": "2020-04-17T12:47:04.773744Z"
    }
   },
   "outputs": [],
   "source": [
    "plt.plot(df_acc_sample[df_acc_sample.window_id==0].timestamp, f(df_acc_sample[df_acc_sample.window_id==0].timestamp))"
   ]
  },
  {
   "cell_type": "code",
   "execution_count": null,
   "metadata": {
    "ExecuteTime": {
     "end_time": "2020-04-17T12:47:05.872636Z",
     "start_time": "2020-04-17T12:47:05.678844Z"
    }
   },
   "outputs": [],
   "source": [
    "xnew = []\n",
    "step = (df_acc_sample[df_acc_sample.window_id==0].timestamp.iloc[-1] - df_acc_sample[df_acc_sample.window_id==0].timestamp.iloc[0]) / df_acc_sample[df_acc_sample.window_id==0].index.size\n",
    "for i in range(df_acc_sample[df_acc_sample.window_id==0].timestamp.iloc[0], df_acc_sample[df_acc_sample.window_id==0].timestamp.iloc[-1], int(step)):\n",
    "    xnew.append(i)\n",
    "plt.plot(xnew, f(xnew))"
   ]
  },
  {
   "cell_type": "code",
   "execution_count": null,
   "metadata": {
    "ExecuteTime": {
     "end_time": "2020-04-17T12:50:41.059110Z",
     "start_time": "2020-04-17T12:50:41.048267Z"
    }
   },
   "outputs": [],
   "source": [
    "ecdfRep(np.array(df_acc_sample[df_acc_sample.window_id==0].double_x.tolist()).reshape([482,1]), 4)"
   ]
  },
  {
   "cell_type": "code",
   "execution_count": null,
   "metadata": {
    "ExecuteTime": {
     "end_time": "2020-04-17T12:58:56.566309Z",
     "start_time": "2020-04-17T12:58:56.548051Z"
    }
   },
   "outputs": [],
   "source": [
    "x_axis = np.array(df_acc_sample[df_acc_sample.window_id==0].double_x.tolist()).reshape([482,1])\n",
    "x_axis = np.array(df_acc_sample[df_acc_sample.window_id==0].double_y.tolist()).reshape([482,1])\n",
    "z_axis = np.array(df_acc_sample[df_acc_sample.window_id==0].double_z.tolist()).reshape([482,1])\n",
    "accel_data = np.concatenate([x_axis,x_axis,z_axis], axis=1)"
   ]
  },
  {
   "cell_type": "code",
   "execution_count": null,
   "metadata": {
    "ExecuteTime": {
     "end_time": "2020-04-17T13:08:05.095734Z",
     "start_time": "2020-04-17T13:08:05.087719Z"
    }
   },
   "outputs": [],
   "source": [
    "a = np.random.randn(100,3)\n",
    "e1 = ecdfRep(accel_data,4)\n",
    "print(e1)\n"
   ]
  },
  {
   "cell_type": "code",
   "execution_count": null,
   "metadata": {
    "ExecuteTime": {
     "end_time": "2020-04-15T03:23:13.010930Z",
     "start_time": "2020-04-15T03:23:12.516251Z"
    }
   },
   "outputs": [],
   "source": [
    "sgnal = f(xnew)\n",
    "L = len(sgnal)\n",
    "freqs, Pxx_den = signal.periodogram(sgnal, window=signal.get_window('boxcar', len(sgnal)), fs=8.1)\n",
    "plt.semilogy(freqs, Pxx_den)\n",
    "plt.ylim([1e-5, 1e2])\n",
    "plt.xlabel('frequency [Hz]')\n",
    "plt.ylabel('PSD [V**2/Hz]')\n",
    "plt.show()"
   ]
  },
  {
   "cell_type": "code",
   "execution_count": null,
   "metadata": {
    "ExecuteTime": {
     "end_time": "2020-04-15T03:35:13.184579Z",
     "start_time": "2020-04-15T03:35:13.176291Z"
    }
   },
   "outputs": [],
   "source": [
    "int_fs = np.argwhere((freqs >= 0.5) & (freqs <= 3))\n",
    "freqs_int = freqs[int_fs]\n",
    "pdd = Pxx_den[int_fs]\n",
    "np.argmax(pdd)\n",
    "freqs_int[14]"
   ]
  },
  {
   "cell_type": "code",
   "execution_count": null,
   "metadata": {
    "ExecuteTime": {
     "end_time": "2020-04-15T03:36:59.335279Z",
     "start_time": "2020-04-15T03:36:58.875659Z"
    }
   },
   "outputs": [],
   "source": [
    "lmbs_f = np.linspace(0.5, 3, 10000)\n",
    "pgram = signal.lombscargle(df_acc_sample[df_acc_sample.window_id==0].timestamp, df_acc_sample[df_acc_sample.window_id==0].double_x, lmbs_f, normalize=True)\n",
    "plt.plot(lmbs_f, pgram)\n",
    "lmbs_f[np.argmax(pgram)]"
   ]
  },
  {
   "cell_type": "code",
   "execution_count": null,
   "metadata": {
    "ExecuteTime": {
     "end_time": "2020-04-15T03:35:29.414562Z",
     "start_time": "2020-04-15T03:35:29.409852Z"
    }
   },
   "outputs": [],
   "source": [
    "Pxx_den = Pxx_den"
   ]
  },
  {
   "cell_type": "code",
   "execution_count": null,
   "metadata": {
    "ExecuteTime": {
     "end_time": "2020-04-15T03:35:31.996968Z",
     "start_time": "2020-04-15T03:35:31.991381Z"
    }
   },
   "outputs": [],
   "source": [
    "np.mean(Pxx_den) # PSD "
   ]
  },
  {
   "cell_type": "code",
   "execution_count": null,
   "metadata": {
    "ExecuteTime": {
     "end_time": "2020-04-14T20:35:57.598438Z",
     "start_time": "2020-04-14T20:35:57.592794Z"
    }
   },
   "outputs": [],
   "source": [
    "Y = fftpack.fft(sgnal, 512)\n",
    "np.dot(np.real(Y), np.real(Y))"
   ]
  },
  {
   "cell_type": "code",
   "execution_count": null,
   "metadata": {},
   "outputs": [],
   "source": []
  },
  {
   "cell_type": "code",
   "execution_count": null,
   "metadata": {
    "ExecuteTime": {
     "end_time": "2020-04-14T17:19:13.689538Z",
     "start_time": "2020-04-14T17:19:13.684348Z"
    }
   },
   "outputs": [],
   "source": [
    "(np.sum(np.real(Y)**2 + np.imag(Y)**2)) / L"
   ]
  },
  {
   "cell_type": "code",
   "execution_count": null,
   "metadata": {
    "ExecuteTime": {
     "end_time": "2020-04-14T17:45:43.681525Z",
     "start_time": "2020-04-14T17:45:43.667165Z"
    },
    "scrolled": true
   },
   "outputs": [],
   "source": [
    "np.sqrt(np.real(Y)**2  + np.imag(Y)**2) / np.sum(np.sqrt(np.real(Y)**2  + np.imag(Y)**2))"
   ]
  },
  {
   "cell_type": "code",
   "execution_count": null,
   "metadata": {
    "ExecuteTime": {
     "end_time": "2020-04-14T14:59:23.324730Z",
     "start_time": "2020-04-14T14:59:23.319095Z"
    }
   },
   "outputs": [],
   "source": [
    "LA.norm(np.mean(Y[1:]))"
   ]
  },
  {
   "cell_type": "code",
   "execution_count": null,
   "metadata": {
    "ExecuteTime": {
     "end_time": "2020-04-11T17:47:18.913582Z",
     "start_time": "2020-04-11T17:47:18.541203Z"
    },
    "scrolled": true
   },
   "outputs": [],
   "source": [
    "f, Pxx_spec = signal.periodogram(sgnal, 8.1, 'flattop', scaling='spectrum')\n",
    "plt.figure()\n",
    "plt.semilogy(f, np.sqrt(Pxx_spec))\n",
    "plt.xlabel('frequency [Hz]')\n",
    "plt.ylabel('Linear spectrum [V RMS]')\n",
    "plt.show()"
   ]
  },
  {
   "cell_type": "code",
   "execution_count": null,
   "metadata": {
    "ExecuteTime": {
     "end_time": "2020-04-11T17:47:46.332919Z",
     "start_time": "2020-04-11T17:47:46.328086Z"
    }
   },
   "outputs": [],
   "source": [
    "np.mean(Pxx_spec)"
   ]
  },
  {
   "cell_type": "code",
   "execution_count": null,
   "metadata": {
    "ExecuteTime": {
     "end_time": "2020-04-03T13:49:18.577779Z",
     "start_time": "2020-04-03T13:49:18.561723Z"
    },
    "scrolled": true
   },
   "outputs": [],
   "source": [
    "Amplitude = np.abs(sig_fft)\n",
    "psd = Amplitude**2\n",
    "Angle = np.angle(sig_fft)"
   ]
  },
  {
   "cell_type": "code",
   "execution_count": null,
   "metadata": {
    "ExecuteTime": {
     "end_time": "2020-04-03T13:50:23.545853Z",
     "start_time": "2020-04-03T13:50:23.529863Z"
    },
    "scrolled": true
   },
   "outputs": [],
   "source": [
    "sample_freq = fftpack.fftfreq(f(xnew).size, d=0.05)\n",
    "sample_freq"
   ]
  },
  {
   "cell_type": "code",
   "execution_count": null,
   "metadata": {
    "ExecuteTime": {
     "end_time": "2020-04-02T18:22:25.899838Z",
     "start_time": "2020-04-02T18:22:25.894436Z"
    }
   },
   "outputs": [],
   "source": [
    "df_feature_windows.index.size"
   ]
  },
  {
   "cell_type": "code",
   "execution_count": null,
   "metadata": {
    "ExecuteTime": {
     "end_time": "2020-04-14T12:47:19.062799Z",
     "start_time": "2020-04-14T12:47:19.059750Z"
    }
   },
   "outputs": [],
   "source": [
    "ld = OrderedDict()\n",
    "ld.update({'min':True})"
   ]
  },
  {
   "cell_type": "code",
   "execution_count": null,
   "metadata": {
    "ExecuteTime": {
     "end_time": "2020-04-14T12:47:32.275132Z",
     "start_time": "2020-04-14T12:47:32.270419Z"
    }
   },
   "outputs": [],
   "source": [
    "if ld['min']:\n",
    "    print(\"yes\")"
   ]
  },
  {
   "cell_type": "code",
   "execution_count": null,
   "metadata": {
    "ExecuteTime": {
     "end_time": "2020-04-14T13:05:37.852751Z",
     "start_time": "2020-04-14T13:05:37.848973Z"
    }
   },
   "outputs": [],
   "source": [
    "xx= ['int_desc', 'int_rms', 'mag_desc', 'pear_coef', 'sma', 'svm', 'ecdf_5', 'dc_comp', 'psd', 'psd_welch', 'psd_ls']"
   ]
  },
  {
   "cell_type": "code",
   "execution_count": null,
   "metadata": {
    "ExecuteTime": {
     "end_time": "2020-04-14T13:05:48.465869Z",
     "start_time": "2020-04-14T13:05:48.462554Z"
    }
   },
   "outputs": [],
   "source": [
    "for x in xx:\n",
    "    print(x)"
   ]
  },
  {
   "cell_type": "code",
   "execution_count": null,
   "metadata": {
    "ExecuteTime": {
     "end_time": "2020-04-16T18:02:26.234231Z",
     "start_time": "2020-04-16T18:02:26.218225Z"
    }
   },
   "outputs": [],
   "source": [
    "import matplotlib.pyplot as plt\n",
    "A = 2.\n",
    "w = 1.\n",
    "phi = 0.5 * np.pi\n",
    "nin = 1000\n",
    "nout = 100000\n",
    "frac_points = 0.9 # Fraction of points to select\n",
    "r = np.random.rand(nin)\n",
    "x = np.linspace(0.01, 10*np.pi, nin)\n",
    "x = x[r >= frac_points]\n",
    "x"
   ]
  },
  {
   "cell_type": "code",
   "execution_count": null,
   "metadata": {
    "ExecuteTime": {
     "end_time": "2020-04-16T18:02:28.693942Z",
     "start_time": "2020-04-16T18:02:28.689568Z"
    }
   },
   "outputs": [],
   "source": [
    "y = A * np.sin(w*x+phi)"
   ]
  },
  {
   "cell_type": "code",
   "execution_count": null,
   "metadata": {
    "ExecuteTime": {
     "end_time": "2020-04-16T18:02:29.937082Z",
     "start_time": "2020-04-16T18:02:29.619684Z"
    }
   },
   "outputs": [],
   "source": [
    "plt.plot(x,y)"
   ]
  },
  {
   "cell_type": "code",
   "execution_count": null,
   "metadata": {
    "ExecuteTime": {
     "end_time": "2020-04-16T18:02:37.770208Z",
     "start_time": "2020-04-16T18:02:37.742640Z"
    }
   },
   "outputs": [],
   "source": [
    "f = np.linspace(0.01, 10, nout)\n",
    "f"
   ]
  },
  {
   "cell_type": "code",
   "execution_count": null,
   "metadata": {
    "ExecuteTime": {
     "end_time": "2020-04-16T18:02:54.061595Z",
     "start_time": "2020-04-16T18:02:53.700853Z"
    }
   },
   "outputs": [],
   "source": [
    "import scipy.signal as signal\n",
    "pgram = signal.lombscargle(x, y, f, normalize=False)"
   ]
  },
  {
   "cell_type": "code",
   "execution_count": null,
   "metadata": {
    "ExecuteTime": {
     "end_time": "2020-04-16T18:03:00.874948Z",
     "start_time": "2020-04-16T18:03:00.608872Z"
    }
   },
   "outputs": [],
   "source": [
    "plt.subplot(2, 1, 1)\n",
    "plt.plot(x, y, 'b+')"
   ]
  },
  {
   "cell_type": "code",
   "execution_count": null,
   "metadata": {
    "ExecuteTime": {
     "end_time": "2020-04-16T18:03:03.136677Z",
     "start_time": "2020-04-16T18:03:02.825945Z"
    }
   },
   "outputs": [],
   "source": [
    "plt.plot(f, pgram)\n"
   ]
  },
  {
   "cell_type": "code",
   "execution_count": null,
   "metadata": {
    "ExecuteTime": {
     "end_time": "2020-04-15T02:19:33.988990Z",
     "start_time": "2020-04-15T02:19:33.981148Z"
    }
   },
   "outputs": [],
   "source": [
    "np.max(pgram)\n",
    "f[np.argmax(pgram)]"
   ]
  },
  {
   "cell_type": "code",
   "execution_count": null,
   "metadata": {
    "ExecuteTime": {
     "end_time": "2020-04-16T18:03:23.592565Z",
     "start_time": "2020-04-16T18:03:23.582978Z"
    }
   },
   "outputs": [],
   "source": [
    "x"
   ]
  },
  {
   "cell_type": "code",
   "execution_count": null,
   "metadata": {},
   "outputs": [],
   "source": []
  }
 ],
 "metadata": {
  "kernelspec": {
   "display_name": "Python 3",
   "language": "python",
   "name": "python3"
  },
  "language_info": {
   "codemirror_mode": {
    "name": "ipython",
    "version": 3
   },
   "file_extension": ".py",
   "mimetype": "text/x-python",
   "name": "python",
   "nbconvert_exporter": "python",
   "pygments_lexer": "ipython3",
   "version": "3.7.3"
  }
 },
 "nbformat": 4,
 "nbformat_minor": 2
}
