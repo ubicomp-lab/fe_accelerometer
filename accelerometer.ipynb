{
 "cells": [
  {
   "cell_type": "code",
   "execution_count": 1,
   "metadata": {
    "ExecuteTime": {
     "end_time": "2020-04-15T03:47:50.906751Z",
     "start_time": "2020-04-15T03:47:48.859262Z"
    },
    "code_folding": [
     7
    ]
   },
   "outputs": [],
   "source": [
    "import pandas as pd\n",
    "import datetime\n",
    "import numpy as np\n",
    "import pytz\n",
    "import scipy\n",
    "import matplotlib.pyplot as plt\n",
    "from collections import OrderedDict\n",
    "from numpy import linalg as LA\n",
    "import time\n",
    "from matplotlib import style\n",
    "from scipy import signal\n",
    "from scipy import fftpack\n",
    "import pywt\n",
    "\n",
    "\n",
    "style.use('dark_background')\n",
    "def hide_toggle(for_next=False):\n",
    "    this_cell = \"\"\"$('div.cell.code_cell.rendered.selected')\"\"\"\n",
    "    next_cell = this_cell + '.next()'\n",
    "\n",
    "    toggle_text = 'Show/Hide Code'  # text shown on toggle link\n",
    "    target_cell = this_cell  # target cell to control with toggle\n",
    "    js_hide_current = ''  # bit of JS to permanently hide code in current cell (only when toggling next cell)\n",
    "\n",
    "    if for_next:\n",
    "        target_cell = next_cell\n",
    "        toggle_text += ' next cell'\n",
    "        js_hide_current = this_cell + '.find(\"div.input\").hide();'\n",
    "\n",
    "    js_f_name = 'code_toggle_{}'.format(str(random.randint(1,2**64)))\n",
    "\n",
    "    html = \"\"\"\n",
    "        <script>\n",
    "            function {f_name}() {{\n",
    "                {cell_selector}.find('div.input').toggle();\n",
    "            }}\n",
    "\n",
    "            {js_hide_current}\n",
    "        </script>\n",
    "\n",
    "        <a href=\"javascript:{f_name}()\">{toggle_text}</a>\n",
    "    \"\"\".format(\n",
    "        f_name=js_f_name,\n",
    "        cell_selector=target_cell,\n",
    "        js_hide_current=js_hide_current, \n",
    "        toggle_text=toggle_text\n",
    "    )\n",
    "\n",
    "    return HTML(html)"
   ]
  },
  {
   "cell_type": "markdown",
   "metadata": {},
   "source": [
    "# Accelerometer Data Feature Extraction"
   ]
  },
  {
   "cell_type": "markdown",
   "metadata": {},
   "source": [
    "### 1) Reading John Doe's Accelerometer data "
   ]
  },
  {
   "cell_type": "code",
   "execution_count": 2,
   "metadata": {
    "ExecuteTime": {
     "end_time": "2020-04-15T03:48:08.670907Z",
     "start_time": "2020-04-15T03:47:50.909071Z"
    },
    "scrolled": true
   },
   "outputs": [],
   "source": [
    "df_acc = pd.read_csv(\"../../../data/johndoe.csv\", header=None)\n",
    "df_acc.columns = ['_id1', '_id2', 'timestamp', 'device_id', 'double_x', 'double_y', 'double_z', 'accuracy', 'label']\n",
    "df_acc.device_id='John Doe'\n",
    "df_acc = df_acc.sort_values(by=['timestamp']).reset_index(drop=True)[['timestamp', 'device_id', 'double_x', 'double_y', 'double_z', 'accuracy', 'label']]\n",
    "df_acc = df_acc[0:100000]"
   ]
  },
  {
   "cell_type": "code",
   "execution_count": 3,
   "metadata": {
    "ExecuteTime": {
     "end_time": "2020-04-15T03:48:08.685576Z",
     "start_time": "2020-04-15T03:48:08.676008Z"
    }
   },
   "outputs": [],
   "source": [
    "def ecdfRep(data, components):\n",
    "    #\n",
    "    #   rep = ecdfRep(data, components)\n",
    "    #\n",
    "    #   Estimate ecdf-representation according to \n",
    "    #     Hammerla, Nils Y., et al. \"On preserving statistical characteristics of \n",
    "    #     accelerometry data using their empirical cumulative distribution.\" \n",
    "    #     ISWC. ACM, 2013.\n",
    "    #\n",
    "    #   Input: \n",
    "    #       data        Nxd     Input data (rows = samples).\n",
    "    #       components  int     Number of components to extract per axis.\n",
    "    #\n",
    "    #   Output:\n",
    "    #       rep         Mx1     Data representation with M = d*components+d\n",
    "    #                           elements.\n",
    "    #\n",
    "    #   Nils Hammerla '15\n",
    "    #\n",
    "        m = data.mean(0)\n",
    "        data = np.sort(data, axis=0)\n",
    "        data = data[np.int32(np.around(np.linspace(0,data.shape[0]-1,num=components))),:]\n",
    "        data = data.flatten(1)\n",
    "        return np.hstack((data, m))"
   ]
  },
  {
   "cell_type": "code",
   "execution_count": 10,
   "metadata": {
    "ExecuteTime": {
     "end_time": "2020-04-15T03:49:59.851568Z",
     "start_time": "2020-04-15T03:49:59.735550Z"
    }
   },
   "outputs": [],
   "source": [
    "\"\"\"\n",
    "modes \n",
    "0 - time domain only\n",
    "1 - time + frequency domain\n",
    "2 - time + frequency + stats\n",
    "3 - statistical methods only3\n",
    "\"\"\"\n",
    "def featurize_window(df_fw, feature_list, mode, window_size_in_minutes):\n",
    "    local_dict = OrderedDict()\n",
    "    \n",
    "    \n",
    "    if mode > 0 and mode < 3:\n",
    "        if df_fw.index.size >= (30*window_size_in_minutes):\n",
    "            f_x = scipy.interpolate.interp1d(df_fw.timestamp, df_fw.double_x)\n",
    "            f_y = scipy.interpolate.interp1d(df_fw.timestamp, df_fw.double_y)\n",
    "            f_z = scipy.interpolate.interp1d(df_fw.timestamp, df_fw.double_z)\n",
    "            r = np.sqrt(df_fw.double_x**2 + df_fw.double_y**2 + df_fw.double_z**2)\n",
    "            f_r = scipy.interpolate.interp1d(df_fw.timestamp, r)\n",
    "            xnew = []\n",
    "            step = (df_fw.timestamp.iloc[-1] - df_fw.timestamp.iloc[0]) /df_fw.index.size\n",
    "            for ti in range(df_fw.timestamp.iloc[0], df_fw.timestamp.iloc[-1], int(step)):\n",
    "                xnew.append(ti)\n",
    "            \n",
    "            f_fs = window_size_in_minutes * 60 / df_fw.index.size\n",
    "            L = len(xnew)\n",
    "            local_dict.update({'skip_fft':True, 'fx': f_x(xnew), 'fy': f_y(xnew), 'fz': f_z(xnew), 'fr': f_r(xnew), 'fs': f_fs, 'L': L})\n",
    "        else:\n",
    "            local_dict.update({'skip_fft':False})\n",
    "        if df_fw.index.size == 0:\n",
    "            local_dict['skip_td'] = False\n",
    "        else:\n",
    "            local_dict['skip_td'] = True\n",
    "            \n",
    "    if mode == 0:\n",
    "        local_dict['skip_fft'] = True\n",
    "    if mode == 3:\n",
    "        local_dict['skip_fft'] = True\n",
    "        local_dict['skip_td'] = True\n",
    "\n",
    "        \n",
    "    feat_dict = OrderedDict()\n",
    "\n",
    "    \n",
    "\n",
    "    for feature in feature_list:\n",
    "        if feature == 'int_desc':\n",
    "            if local_dict['skip_td']:\n",
    "                int_desc = np.sqrt((df_fw.double_x ** 2).describe() + (df_fw.double_y **2).describe() + (df_fw.double_z ** 2).describe())\n",
    "                feat_dict.update({'int_mean': int_desc[1], 'int_std': int_desc[2], \n",
    "                                  'int_min': int_desc[3],'int_25': int_desc[4], 'int_50': int_desc[5],'int_75': int_desc[6]})\n",
    "            else:\n",
    "                feat_dict.update({'int_mean': np.nan, 'int_std': np.nan, \n",
    "                                  'int_min': np.nan,'int_25': np.nan, 'int_50': np.nan,'int_75': np.nan})\n",
    "        elif feature == 'int_rms':\n",
    "            if local_dict['skip_td']:\n",
    "                int_rms = np.sqrt((df_fw.double_x**2).sum() + (df_fw.double_y**2).sum() + (df_fw.double_z**2).sum()) / np.sqrt(df_fw.index.size)\n",
    "                feat_dict.update({'int_rms':int_rms})\n",
    "            else:\n",
    "                feat_dict.update({'int_rms': np.nan})\n",
    "        elif feature == 'mag_desc':\n",
    "            if local_dict['skip_td']:\n",
    "                mag_desc = np.sqrt(df_fw.double_x**2 + df_fw.double_y**2 + df_fw.double_z**2).describe()\n",
    "                feat_dict.update({'mag_mean': mag_desc[1], 'mag_std': mag_desc[2], 'mag_min': mag_desc[3],\n",
    "                                  'mag_25': mag_desc[4], 'mag_50': mag_desc[5],'mag_75': mag_desc[6]})\n",
    "            else:\n",
    "                feat_dict.update({'mag_mean': np.nan, 'mag_std': np.nan, 'mag_min': np.nan,\n",
    "                  'mag_25': np.nan, 'mag_50': np.nan,'mag_75': np.nan})\n",
    "        elif feature == 'pear_coef':\n",
    "            if local_dict['skip_td']:\n",
    "                cov_matrix =  np.cov(np.stack((df_fw.double_x,df_fw.double_y, df_fw.double_z), axis=0))\n",
    "                pear_coef_xy = cov_matrix[0,1] / (df_fw.double_x.std() * df_fw.double_y.std())\n",
    "                pear_coef_yz = cov_matrix[1,2] / (df_fw.double_y.std() * df_fw.double_z.std())\n",
    "                pear_coef_xz = cov_matrix[0,2] / (df_fw.double_x.std() * df_fw.double_z.std())\n",
    "                feat_dict.update({'pear_coef_xy':pear_coef_xy, 'pear_coef_yz':pear_coef_yz,'pear_coef_xz':pear_coef_xz })\n",
    "            else:\n",
    "                feat_dict.update({'pear_coef_xy':np.nan, 'pear_coef_yz':np.nan,'pear_coef_xz':np.nan})\n",
    "        elif feature == 'sma':\n",
    "            if local_dict['skip_td']:\n",
    "                sma = (np.abs(df_fw.double_x.to_numpy()).sum() + np.abs(df_fw.double_y.to_numpy()).sum() + np.abs(df_fw.double_z.to_numpy()).sum()) / df_fw.index.size\n",
    "                feat_dict.update({'sma':sma})\n",
    "            else:\n",
    "                feat_dict.update({'sma':np.nan})\n",
    "        elif feature == 'svm':\n",
    "            if local_dict['skip_td']:\n",
    "                svm = np.sqrt(df_fw.double_x**2 + df_fw.double_y**2 + df_fw.double_z**2).sum() / df_fw.index.size\n",
    "                feat_dict.update({'svm':svm})\n",
    "            else:\n",
    "                feat_dict.update({'svm':np.nan})\n",
    "        elif feature == 'fft':\n",
    "            if local_dict['skip_fft']:\n",
    "                L = local_dict['L']\n",
    "                dfx = fftpack.fft(local_dict['fx'], 512)\n",
    "                dfy = fftpack.fft(local_dict['fy'], 512)\n",
    "                dfz = fftpack.fft(local_dict['fz'], 512)\n",
    "                dfr = fftpack.fft(local_dict['fr'], 512)\n",
    "                # DC component\n",
    "                feat_dict.update({'fdc_x': np.mean(np.real(dfx)) / L, 'fdc_y': np.mean(np.real(dfy)) / L,\n",
    "                                  'fdc_z':  np.mean(np.real(dfz)) / L, 'fdc_r':  np.mean(np.real(dfr)) / L})\n",
    "                # Energy\n",
    "                feat_dict.update({'feng_x': (np.sum(np.real(dfx)**2 + np.imag(dfx)**2)) / L, 'feng_y': (np.sum(np.real(dfy)**2 + np.imag(dfy)**2)) / L,\n",
    "                                  'feng_z':  (np.sum(np.real(dfz)**2 + np.imag(dfz)**2)) / L, 'feng_r':  (np.sum(np.real(dfr)**2 + np.imag(dfr)**2)) / L})\n",
    "                # Entropy\n",
    "                ck_x = np.sqrt(np.real(dfx)**2  + np.imag(dfx)**2)\n",
    "                cj_x = ck_x / np.sum(ck_x)\n",
    "                e_x = np.sum(cj_x * np.log(cj_x))\n",
    "                \n",
    "                ck_y = np.sqrt(np.real(dfy)**2  + np.imag(dfy)**2)\n",
    "                cj_y = ck_y / np.sum(ck_y)\n",
    "                e_y = np.sum(cj_y * np.log(cj_y))\n",
    "                \n",
    "                ck_z = np.sqrt(np.real(dfz)**2  + np.imag(dfz)**2)\n",
    "                cj_z = ck_z / np.sum(ck_z)\n",
    "                e_z = np.sum(cj_z * np.log(cj_z))\n",
    "                \n",
    "                ck_r = np.sqrt(np.real(dfr)**2  + np.imag(dfr)**2)\n",
    "                cj_r = ck_r / np.sum(ck_r)\n",
    "                e_r = np.sum(cj_r * np.log(cj_r))\n",
    "                \n",
    "                feat_dict.update({'fent_x': e_x, 'fent_y':  e_y,'fent_z':  e_z, 'fent_r': e_r})\n",
    "                \n",
    "                # Correlation\n",
    "                fcorr_xy = np.dot(np.real(dfx) / L, np.real(dfy) / L)\n",
    "                fcorr_xz = np.dot(np.real(dfx) / L, np.real(dfz) / L)\n",
    "                fcorr_yz = np.dot(np.real(dfy) / L, np.real(dfz) / L)\n",
    "                \n",
    "                feat_dict.update({'fcorr_xy': fcorr_xy,'fcorr_xz':  fcorr_xz, 'fcorr_yz': fcorr_yz})\n",
    "                \n",
    "            else:\n",
    "                feat_dict.update({'fdc_x': np.nan, 'fdc_y':  np.nan,'fdc_z':  np.nan, 'fdc_r': np.nan})\n",
    "                feat_dict.update({'feng_x':  np.nan, 'feng_y':  np.nan, 'feng_z':   np.nan, 'feng_r':   np.nan})\n",
    "                feat_dict.update({'fent_x': np.nan, 'fent_y':  np.nan,'fent_z':  np.nan, 'fent_r': np.nan})\n",
    "                feat_dict.update({'fcorr_xy': np.nan,'fcorr_xz':  np.nan, 'fcorr_yz': np.nan})\n",
    "        elif feature == 'psd':\n",
    "            if local_dict['skip_fft']:\n",
    "                fs = local_dict['fs']\n",
    "                psd_window = signal.get_window('boxcar', len(local_dict['fx']))\n",
    "                freqs_x, pxx_denx = signal.periodogram(local_dict['fx'], window=psd_window, fs=fs)\n",
    "                freqs_y, pxx_deny = signal.periodogram(local_dict['fy'], window=psd_window, fs=fs)\n",
    "                freqs_z, pxx_denz = signal.periodogram(local_dict['fz'], window=psd_window, fs=fs)\n",
    "                freqs_r, pxx_denr = signal.periodogram(local_dict['fr'], window=psd_window, fs=fs)\n",
    "                feat_dict.update({'psd_mean_x': np.mean(pxx_denx), 'psd_mean_y': np.mean(pxx_deny),\n",
    "                                  'psd_mean_z': np.mean(pxx_denz), 'psd_mean_r': np.mean(pxx_denr)})\n",
    "                \n",
    "                feat_dict.update({'psd_max_x': np.max(pxx_denx), \n",
    "                                  'psd_max_y': np.max(pxx_deny),\n",
    "                                  'psd_max_z': np.max(pxx_denz), \n",
    "                                  'psd_max_r': np.max(pxx_deny)})\n",
    "                \n",
    "                \n",
    "                freqs_05_3_x = np.argwhere((freqs_x >= 0.5) & (freqs_x <= 3))\n",
    "                freqs_05_3_y = np.argwhere((freqs_y >= 0.5) & (freqs_y <= 3))\n",
    "                freqs_05_3_z = np.argwhere((freqs_z >= 0.5) & (freqs_z <= 3))\n",
    "                freqs_05_3_r = np.argwhere((freqs_r >= 0.5) & (freqs_r <= 3))\n",
    "                \n",
    "                \n",
    "                # max b/w 0.3 - 3Hz\n",
    "                feat_dict.update({'psd_max_x_05_3': np.max(pxx_denx[freqs_05_3_x]) if freqs_05_3_x.any() else 0.0, \n",
    "                  'psd_max_y_05_3': np.max(pxx_deny[freqs_05_3_y]) if freqs_05_3_y.any() else 0.0,\n",
    "                  'psd_max_z_05_3': np.max(pxx_denz[freqs_05_3_z]) if freqs_05_3_z.any() else 0.0,\n",
    "                  'psd_max_r_05_3': np.max(pxx_denr[freqs_05_3_r]) if freqs_05_3_r.any() else 0.0})\n",
    "            else:\n",
    "                feat_dict.update({'psd_mean_x': np.nan, 'psd_mean_y':np.nan,\n",
    "                                  'psd_mean_z': np.nan, 'psd_mean_r': np.nan})\n",
    "                feat_dict.update({'psd_max_x': np.nan, \n",
    "                                  'psd_max_y': np.nan,\n",
    "                                  'psd_max_z': np.nan, \n",
    "                                  'psd_max_r': np.nan})\n",
    "        elif feature == 'lmbs':\n",
    "            if local_dict['skip_td']:\n",
    "                lmb_f_05_3 = np.linspace(0.5, 3, 10000)\n",
    "                lmb_psd_x = signal.lombscargle(df_fw.timestamp, df_fw.double_x, lmb_f_05_3, normalize=False)\n",
    "                lmb_psd_y = signal.lombscargle(df_fw.timestamp, df_fw.double_y, lmb_f_05_3, normalize=False)\n",
    "                lmb_psd_z = signal.lombscargle(df_fw.timestamp, df_fw.double_z, lmb_f_05_3, normalize=False)\n",
    "                \n",
    "                feat_dict.update({'lmb_psd_max_x_05_3': np.max(lmb_psd_x) if lmb_psd_x.any() else 0.0, \n",
    "                  'lmb_psd_max_y_05_3': np.max(lmb_psd_y) if lmb_psd_y.any() else 0.0,\n",
    "                  'lmb_psd_max_z_05_3': np.max(lmb_psd_z) if lmb_psd_z.any() else 0.0})\n",
    "            else:\n",
    "                feat_dict.update({'lmb_psd_max_x_05_3': np.nan, \n",
    "                  'lmb_psd_max_y_05_3': np.nan,\n",
    "                  'lmb_psd_max_z_05_3': np.nan})\n",
    "                \n",
    "                \n",
    "    return feat_dict"
   ]
  },
  {
   "cell_type": "code",
   "execution_count": 11,
   "metadata": {
    "ExecuteTime": {
     "end_time": "2020-04-15T03:50:00.459743Z",
     "start_time": "2020-04-15T03:50:00.446875Z"
    }
   },
   "outputs": [],
   "source": [
    "acc_features = ['int_desc', 'int_rms', 'mag_desc', 'pear_coef', 'sma', 'svm', 'ecdf_5', 'fft', 'psd', 'lmbs']\n",
    "\n",
    "\n",
    "def init_window_feature_df():\n",
    "    return pd.DataFrame(columns= ['_window_id', 'start_time', 'end_time'])\n",
    "\n",
    "\n",
    "def acc_windowizer(df_acc_sample, mode, window_size_in_minutes):\n",
    "    window = 0\n",
    "    window_start_time = df_acc_sample.timestamp.iloc[0]\n",
    "    window_end_time = df_acc_sample.timestamp.iloc[-1]\n",
    "    window_next_time = window_start_time + (datetime.timedelta(minutes=window_size_in_minutes).seconds * 10**3)\n",
    "    window_id = 0\n",
    "    window_start_index = 0\n",
    "    df_acc_sample['window_id'] = -1\n",
    "    df_feature_windows = init_window_feature_df()\n",
    "    estimated_windows = (df_acc.timestamp.iloc[-1] - df_acc.timestamp.iloc[0]) / (window_size_in_minutes * 60000)\n",
    "    print(\"Estimated no. of windows: \", estimated_windows)\n",
    "    \n",
    "    \n",
    "\n",
    "    while window_next_time < window_end_time:\n",
    "        window += 1\n",
    "        print(\"window: \", window)\n",
    "        print(\"Percentage: \", (window/estimated_windows) * 100, \"%\")\n",
    "        window_indices = df_acc_sample.iloc[window_start_index:].timestamp < window_next_time\n",
    "        df_acc_sample.window_id.iloc[window_start_index:][window_indices] = window_id\n",
    "        feature_dict = featurize_window(df_acc_sample.iloc[window_start_index:][window_indices], acc_features, mode, window_size_in_minutes)\n",
    "        feature_dict.update({'_window_id': window_id, 'start_time': window_start_time, 'end_time': window_next_time - 1, 'sample_count':window_indices[window_indices].index.size})\n",
    "        df_feature_windows = df_feature_windows.append(feature_dict, ignore_index=True)\n",
    "        window_start_time = window_next_time\n",
    "        window_next_time = window_next_time + (datetime.timedelta(minutes=window_size_in_minutes).seconds * 10**3)\n",
    "        window_id = window_id + 1\n",
    "        window_start_index = window_indices[~window_indices].index[0]\n",
    "\n",
    "    window_indices = df_acc_sample.iloc[window_start_index:].timestamp < window_next_time\n",
    "    feature_dict = featurize_window(df_acc_sample.iloc[window_start_index:], acc_features, mode, window_size_in_minutes)\n",
    "    df_acc_sample.window_id.iloc[window_start_index:][window_indices] = window_id\n",
    "    feature_dict.update({'_window_id': window_id, 'start_time': window_start_time, 'end_time': window_next_time, 'sample_count':window_indices[window_indices].index.size})\n",
    "    df_feature_windows = df_feature_windows.append(feature_dict, ignore_index=True)\n",
    "    df_feature_windows.start_time = df_feature_windows.start_time.astype(np.int64)\n",
    "    df_feature_windows.end_time = df_feature_windows.end_time.astype(np.int64)\n",
    "    df_feature_windows.sample_count = df_feature_windows.sample_count.astype(np.int64)\n",
    "    df_feature_windows._window_id = df_feature_windows._window_id.astype(np.int64)\n",
    "    return df_feature_windows, df_acc_sample"
   ]
  },
  {
   "cell_type": "code",
   "execution_count": 12,
   "metadata": {
    "ExecuteTime": {
     "end_time": "2020-04-15T03:52:21.215103Z",
     "start_time": "2020-04-15T03:50:01.048833Z"
    },
    "scrolled": true
   },
   "outputs": [
    {
     "name": "stdout",
     "output_type": "stream",
     "text": [
      "Estimated no. of windows:  279.1128\n",
      "window:  1\n",
      "Percentage:  0.3582780868523407 %\n",
      "482\n",
      "window:  2\n",
      "Percentage:  0.7165561737046814 %\n",
      "531\n",
      "window:  3\n",
      "Percentage:  1.0748342605570222 %\n",
      "102\n",
      "window:  4\n",
      "Percentage:  1.4331123474093628 %\n",
      "184\n",
      "window:  5\n",
      "Percentage:  1.7913904342617037 %\n",
      "24\n",
      "window:  6\n",
      "Percentage:  2.1496685211140445 %\n",
      "155\n",
      "window:  7\n",
      "Percentage:  2.507946607966385 %\n",
      "window:  8\n",
      "Percentage:  2.8662246948187255 %\n",
      "216\n",
      "window:  9\n",
      "Percentage:  3.2245027816710667 %\n",
      "369\n",
      "window:  10\n",
      "Percentage:  3.5827808685234075 %\n",
      "2\n",
      "window:  11\n",
      "Percentage:  3.9410589553757482 %\n",
      "39\n",
      "window:  12\n",
      "Percentage:  4.299337042228089 %\n",
      "156\n",
      "window:  13\n",
      "Percentage:  4.65761512908043 %\n",
      "360\n",
      "window:  14\n",
      "Percentage:  5.01589321593277 %\n",
      "399\n",
      "window:  15\n",
      "Percentage:  5.37417130278511 %\n",
      "332\n",
      "window:  16\n",
      "Percentage:  5.732449389637451 %\n",
      "86\n",
      "window:  17\n",
      "Percentage:  6.090727476489792 %\n",
      "238\n",
      "window:  18\n",
      "Percentage:  6.4490055633421335 %\n",
      "375\n",
      "window:  19\n",
      "Percentage:  6.807283650194473 %\n",
      "373\n",
      "window:  20\n",
      "Percentage:  7.165561737046815 %\n",
      "78\n",
      "window:  21\n",
      "Percentage:  7.523839823899155 %\n",
      "45\n",
      "window:  22\n",
      "Percentage:  7.8821179107514965 %\n",
      "93\n",
      "window:  23\n",
      "Percentage:  8.240395997603835 %\n",
      "window:  24\n",
      "Percentage:  8.598674084456178 %\n",
      "window:  25\n",
      "Percentage:  8.956952171308517 %\n",
      "window:  26\n",
      "Percentage:  9.31523025816086 %\n",
      "window:  27\n",
      "Percentage:  9.673508345013198 %\n",
      "window:  28\n",
      "Percentage:  10.03178643186554 %\n",
      "window:  29\n",
      "Percentage:  10.39006451871788 %\n",
      "window:  30\n",
      "Percentage:  10.74834260557022 %\n",
      "window:  31\n",
      "Percentage:  11.106620692422563 %\n",
      "70\n",
      "window:  32\n",
      "Percentage:  11.464898779274902 %\n",
      "250\n",
      "window:  33\n",
      "Percentage:  11.823176866127245 %\n",
      "212\n",
      "window:  34\n",
      "Percentage:  12.181454952979584 %\n",
      "216\n",
      "window:  35\n",
      "Percentage:  12.539733039831924 %\n",
      "290\n",
      "window:  36\n",
      "Percentage:  12.898011126684267 %\n",
      "316\n",
      "window:  37\n",
      "Percentage:  13.256289213536606 %\n",
      "215\n",
      "window:  38\n",
      "Percentage:  13.614567300388947 %\n",
      "320\n",
      "window:  39\n",
      "Percentage:  13.972845387241287 %\n",
      "119\n",
      "window:  40\n",
      "Percentage:  14.33112347409363 %\n",
      "215\n",
      "window:  41\n",
      "Percentage:  14.689401560945969 %\n",
      "307\n",
      "window:  42\n",
      "Percentage:  15.04767964779831 %\n",
      "169\n",
      "window:  43\n",
      "Percentage:  15.405957734650649 %\n",
      "142\n",
      "window:  44\n",
      "Percentage:  15.764235821502993 %\n",
      "304\n",
      "window:  45\n",
      "Percentage:  16.122513908355334 %\n",
      "window:  46\n",
      "Percentage:  16.48079199520767 %\n",
      "38\n",
      "window:  47\n",
      "Percentage:  16.839070082060015 %\n",
      "window:  48\n",
      "Percentage:  17.197348168912356 %\n",
      "104\n",
      "window:  49\n",
      "Percentage:  17.555626255764693 %\n",
      "window:  50\n",
      "Percentage:  17.913904342617034 %\n",
      "38\n",
      "window:  51\n",
      "Percentage:  18.272182429469378 %\n",
      "38\n",
      "window:  52\n",
      "Percentage:  18.63046051632172 %\n",
      "294\n",
      "window:  53\n",
      "Percentage:  18.988738603174056 %\n",
      "94\n",
      "window:  54\n",
      "Percentage:  19.347016690026397 %\n",
      "window:  55\n",
      "Percentage:  19.70529477687874 %\n",
      "window:  56\n",
      "Percentage:  20.06357286373108 %\n",
      "window:  57\n",
      "Percentage:  20.42185095058342 %\n",
      "548\n",
      "window:  58\n",
      "Percentage:  20.78012903743576 %\n",
      "window:  59\n",
      "Percentage:  21.138407124288104 %\n",
      "window:  60\n",
      "Percentage:  21.49668521114044 %\n",
      "window:  61\n",
      "Percentage:  21.854963297992782 %\n",
      "window:  62\n",
      "Percentage:  22.213241384845126 %\n",
      "window:  63\n",
      "Percentage:  22.571519471697464 %\n",
      "window:  64\n",
      "Percentage:  22.929797558549804 %\n",
      "261\n",
      "window:  65\n",
      "Percentage:  23.288075645402145 %\n",
      "157\n",
      "window:  66\n",
      "Percentage:  23.64635373225449 %\n",
      "window:  67\n",
      "Percentage:  24.004631819106827 %\n",
      "window:  68\n",
      "Percentage:  24.362909905959167 %\n",
      "655\n",
      "window:  69\n",
      "Percentage:  24.721187992811508 %\n",
      "620\n",
      "window:  70\n",
      "Percentage:  25.07946607966385 %\n",
      "389\n",
      "window:  71\n",
      "Percentage:  25.43774416651619 %\n",
      "255\n",
      "window:  72\n",
      "Percentage:  25.796022253368534 %\n",
      "491\n",
      "window:  73\n",
      "Percentage:  26.15430034022087 %\n",
      "window:  74\n",
      "Percentage:  26.512578427073212 %\n",
      "128\n",
      "window:  75\n",
      "Percentage:  26.87085651392555 %\n",
      "window:  76\n",
      "Percentage:  27.229134600777893 %\n",
      "window:  77\n",
      "Percentage:  27.587412687630238 %\n",
      "window:  78\n",
      "Percentage:  27.945690774482575 %\n",
      "window:  79\n",
      "Percentage:  28.303968861334916 %\n",
      "window:  80\n",
      "Percentage:  28.66224694818726 %\n",
      "window:  81\n",
      "Percentage:  29.020525035039597 %\n",
      "window:  82\n",
      "Percentage:  29.378803121891938 %\n",
      "72\n",
      "window:  83\n",
      "Percentage:  29.737081208744282 %\n",
      "window:  84\n",
      "Percentage:  30.09535929559662 %\n",
      "window:  85\n",
      "Percentage:  30.45363738244896 %\n",
      "window:  86\n",
      "Percentage:  30.811915469301297 %\n",
      "window:  87\n",
      "Percentage:  31.17019355615364 %\n",
      "window:  88\n",
      "Percentage:  31.528471643005986 %\n",
      "window:  89\n",
      "Percentage:  31.886749729858323 %\n",
      "window:  90\n",
      "Percentage:  32.24502781671067 %\n",
      "window:  91\n",
      "Percentage:  32.603305903563005 %\n",
      "window:  92\n",
      "Percentage:  32.96158399041534 %\n",
      "window:  93\n",
      "Percentage:  33.319862077267686 %\n",
      "window:  94\n",
      "Percentage:  33.67814016412003 %\n",
      "window:  95\n",
      "Percentage:  34.03641825097237 %\n",
      "window:  96\n",
      "Percentage:  34.39469633782471 %\n",
      "window:  97\n",
      "Percentage:  34.75297442467705 %\n",
      "window:  98\n",
      "Percentage:  35.111252511529386 %\n",
      "window:  99\n",
      "Percentage:  35.46953059838173 %\n",
      "window:  100\n",
      "Percentage:  35.82780868523407 %\n",
      "window:  101\n",
      "Percentage:  36.18608677208641 %\n",
      "window:  102\n",
      "Percentage:  36.544364858938756 %\n",
      "window:  103\n",
      "Percentage:  36.902642945791094 %\n",
      "window:  104\n",
      "Percentage:  37.26092103264344 %\n",
      "window:  105\n",
      "Percentage:  37.619199119495775 %\n",
      "window:  106\n",
      "Percentage:  37.97747720634811 %\n",
      "window:  107\n",
      "Percentage:  38.33575529320046 %\n",
      "window:  108\n",
      "Percentage:  38.694033380052794 %\n",
      "window:  109\n",
      "Percentage:  39.05231146690514 %\n",
      "window:  110\n",
      "Percentage:  39.41058955375748 %\n",
      "window:  111\n",
      "Percentage:  39.76886764060982 %\n",
      "window:  112\n",
      "Percentage:  40.12714572746216 %\n",
      "window:  113\n",
      "Percentage:  40.4854238143145 %\n",
      "window:  114\n",
      "Percentage:  40.84370190116684 %\n",
      "window:  115\n",
      "Percentage:  41.20197998801918 %\n",
      "window:  116\n",
      "Percentage:  41.56025807487152 %\n",
      "window:  117\n",
      "Percentage:  41.918536161723864 %\n",
      "window:  118\n",
      "Percentage:  42.27681424857621 %\n",
      "window:  119\n",
      "Percentage:  42.635092335428546 %\n",
      "window:  120\n",
      "Percentage:  42.99337042228088 %\n",
      "window:  121\n",
      "Percentage:  43.35164850913323 %\n",
      "window:  122\n",
      "Percentage:  43.709926595985564 %\n",
      "window:  123\n",
      "Percentage:  44.06820468283791 %\n",
      "window:  124\n",
      "Percentage:  44.42648276969025 %\n",
      "window:  125\n",
      "Percentage:  44.78476085654259 %\n",
      "window:  126\n",
      "Percentage:  45.14303894339493 %\n",
      "window:  127\n",
      "Percentage:  45.501317030247264 %\n",
      "window:  128\n",
      "Percentage:  45.85959511709961 %\n",
      "window:  129\n",
      "Percentage:  46.21787320395195 %\n",
      "window:  130\n",
      "Percentage:  46.57615129080429 %\n",
      "window:  131\n",
      "Percentage:  46.934429377656635 %\n",
      "window:  132\n",
      "Percentage:  47.29270746450898 %\n",
      "window:  133\n",
      "Percentage:  47.650985551361316 %\n",
      "window:  134\n",
      "Percentage:  48.00926363821365 %\n",
      "1274\n",
      "window:  135\n",
      "Percentage:  48.36754172506599 %\n",
      "1393\n",
      "window:  136\n",
      "Percentage:  48.725819811918335 %\n",
      "1537\n",
      "window:  137\n",
      "Percentage:  49.08409789877068 %\n",
      "1333\n",
      "window:  138\n",
      "Percentage:  49.442375985623016 %\n",
      "616\n",
      "window:  139\n",
      "Percentage:  49.80065407247536 %\n",
      "578\n",
      "window:  140\n",
      "Percentage:  50.1589321593277 %\n",
      "598\n",
      "window:  141\n",
      "Percentage:  50.51721024618004 %\n",
      "1518\n",
      "window:  142\n",
      "Percentage:  50.87548833303238 %\n",
      "1451\n",
      "window:  143\n",
      "Percentage:  51.23376641988472 %\n",
      "766\n",
      "window:  144\n",
      "Percentage:  51.59204450673707 %\n",
      "1477\n",
      "window:  145\n",
      "Percentage:  51.950322593589405 %\n",
      "645\n",
      "window:  146\n",
      "Percentage:  52.30860068044174 %\n",
      "1495\n",
      "window:  147\n",
      "Percentage:  52.66687876729409 %\n",
      "1399\n",
      "window:  148\n",
      "Percentage:  53.025156854146424 %\n",
      "978\n",
      "window:  149\n",
      "Percentage:  53.38343494099876 %\n",
      "1352\n",
      "window:  150\n",
      "Percentage:  53.7417130278511 %\n",
      "1537\n",
      "window:  151\n",
      "Percentage:  54.09999111470345 %\n",
      "1301\n",
      "window:  152\n",
      "Percentage:  54.45826920155579 %\n",
      "1537\n",
      "window:  153\n",
      "Percentage:  54.816547288408124 %\n",
      "1537\n",
      "window:  154\n",
      "Percentage:  55.174825375260475 %\n",
      "770\n",
      "window:  155\n",
      "Percentage:  55.53310346211281 %\n",
      "1453\n",
      "window:  156\n",
      "Percentage:  55.89138154896515 %\n",
      "898\n",
      "window:  157\n",
      "Percentage:  56.249659635817494 %\n",
      "1033\n",
      "window:  158\n",
      "Percentage:  56.60793772266983 %\n",
      "930\n",
      "window:  159\n",
      "Percentage:  56.96621580952217 %\n",
      "439\n",
      "window:  160\n",
      "Percentage:  57.32449389637452 %\n",
      "469\n",
      "window:  161\n",
      "Percentage:  57.68277198322686 %\n",
      "373\n",
      "window:  162\n",
      "Percentage:  58.041050070079194 %\n",
      "473\n",
      "window:  163\n",
      "Percentage:  58.39932815693154 %\n",
      "138\n",
      "window:  164\n",
      "Percentage:  58.757606243783876 %\n",
      "108\n",
      "window:  165\n",
      "Percentage:  59.11588433063621 %\n",
      "234\n",
      "window:  166\n",
      "Percentage:  59.474162417488564 %\n",
      "67\n",
      "window:  167\n",
      "Percentage:  59.8324405043409 %\n",
      "window:  168\n",
      "Percentage:  60.19071859119324 %\n",
      "window:  169\n",
      "Percentage:  60.54899667804558 %\n",
      "window:  170\n",
      "Percentage:  60.90727476489792 %\n",
      "window:  171\n",
      "Percentage:  61.26555285175026 %\n",
      "window:  172\n",
      "Percentage:  61.623830938602595 %\n",
      "window:  173\n",
      "Percentage:  61.982109025454946 %\n",
      "window:  174\n",
      "Percentage:  62.34038711230728 %\n",
      "window:  175\n",
      "Percentage:  62.69866519915962 %\n",
      "window:  176\n",
      "Percentage:  63.05694328601197 %\n",
      "window:  177\n",
      "Percentage:  63.41522137286431 %\n",
      "38\n"
     ]
    },
    {
     "name": "stdout",
     "output_type": "stream",
     "text": [
      "window:  178\n",
      "Percentage:  63.773499459716646 %\n",
      "window:  179\n",
      "Percentage:  64.131777546569 %\n",
      "window:  180\n",
      "Percentage:  64.49005563342133 %\n",
      "window:  181\n",
      "Percentage:  64.84833372027367 %\n",
      "window:  182\n",
      "Percentage:  65.20661180712601 %\n",
      "window:  183\n",
      "Percentage:  65.56488989397835 %\n",
      "window:  184\n",
      "Percentage:  65.92316798083068 %\n",
      "window:  185\n",
      "Percentage:  66.28144606768304 %\n",
      "window:  186\n",
      "Percentage:  66.63972415453537 %\n",
      "window:  187\n",
      "Percentage:  66.99800224138771 %\n",
      "window:  188\n",
      "Percentage:  67.35628032824006 %\n",
      "window:  189\n",
      "Percentage:  67.7145584150924 %\n",
      "window:  190\n",
      "Percentage:  68.07283650194474 %\n",
      "window:  191\n",
      "Percentage:  68.43111458879707 %\n",
      "window:  192\n",
      "Percentage:  68.78939267564942 %\n",
      "window:  193\n",
      "Percentage:  69.14767076250176 %\n",
      "window:  194\n",
      "Percentage:  69.5059488493541 %\n",
      "window:  195\n",
      "Percentage:  69.86422693620644 %\n",
      "window:  196\n",
      "Percentage:  70.22250502305877 %\n",
      "window:  197\n",
      "Percentage:  70.58078310991111 %\n",
      "window:  198\n",
      "Percentage:  70.93906119676346 %\n",
      "window:  199\n",
      "Percentage:  71.2973392836158 %\n",
      "window:  200\n",
      "Percentage:  71.65561737046814 %\n",
      "window:  201\n",
      "Percentage:  72.01389545732049 %\n",
      "window:  202\n",
      "Percentage:  72.37217354417282 %\n",
      "window:  203\n",
      "Percentage:  72.73045163102516 %\n",
      "window:  204\n",
      "Percentage:  73.08872971787751 %\n",
      "window:  205\n",
      "Percentage:  73.44700780472985 %\n",
      "window:  206\n",
      "Percentage:  73.80528589158219 %\n",
      "window:  207\n",
      "Percentage:  74.16356397843454 %\n",
      "window:  208\n",
      "Percentage:  74.52184206528688 %\n",
      "window:  209\n",
      "Percentage:  74.88012015213921 %\n",
      "window:  210\n",
      "Percentage:  75.23839823899155 %\n",
      "window:  211\n",
      "Percentage:  75.59667632584389 %\n",
      "window:  212\n",
      "Percentage:  75.95495441269622 %\n",
      "window:  213\n",
      "Percentage:  76.31323249954856 %\n",
      "window:  214\n",
      "Percentage:  76.67151058640091 %\n",
      "window:  215\n",
      "Percentage:  77.02978867325325 %\n",
      "window:  216\n",
      "Percentage:  77.38806676010559 %\n",
      "window:  217\n",
      "Percentage:  77.74634484695794 %\n",
      "window:  218\n",
      "Percentage:  78.10462293381028 %\n",
      "window:  219\n",
      "Percentage:  78.46290102066261 %\n",
      "window:  220\n",
      "Percentage:  78.82117910751496 %\n",
      "window:  221\n",
      "Percentage:  79.1794571943673 %\n",
      "window:  222\n",
      "Percentage:  79.53773528121964 %\n",
      "window:  223\n",
      "Percentage:  79.89601336807198 %\n",
      "window:  224\n",
      "Percentage:  80.25429145492431 %\n",
      "window:  225\n",
      "Percentage:  80.61256954177665 %\n",
      "window:  226\n",
      "Percentage:  80.970847628629 %\n",
      "window:  227\n",
      "Percentage:  81.32912571548134 %\n",
      "window:  228\n",
      "Percentage:  81.68740380233368 %\n",
      "window:  229\n",
      "Percentage:  82.04568188918603 %\n",
      "window:  230\n",
      "Percentage:  82.40395997603837 %\n",
      "window:  231\n",
      "Percentage:  82.7622380628907 %\n",
      "window:  232\n",
      "Percentage:  83.12051614974304 %\n",
      "window:  233\n",
      "Percentage:  83.47879423659539 %\n",
      "window:  234\n",
      "Percentage:  83.83707232344773 %\n",
      "window:  235\n",
      "Percentage:  84.19535041030007 %\n",
      "window:  236\n",
      "Percentage:  84.55362849715242 %\n",
      "window:  237\n",
      "Percentage:  84.91190658400475 %\n",
      "93\n",
      "window:  238\n",
      "Percentage:  85.27018467085709 %\n",
      "731\n",
      "window:  239\n",
      "Percentage:  85.62846275770943 %\n",
      "928\n",
      "window:  240\n",
      "Percentage:  85.98674084456177 %\n",
      "1753\n",
      "window:  241\n",
      "Percentage:  86.3450189314141 %\n",
      "1582\n",
      "window:  242\n",
      "Percentage:  86.70329701826645 %\n",
      "1538\n",
      "window:  243\n",
      "Percentage:  87.06157510511879 %\n",
      "1535\n",
      "window:  244\n",
      "Percentage:  87.41985319197113 %\n",
      "1539\n",
      "window:  245\n",
      "Percentage:  87.77813127882348 %\n",
      "1539\n",
      "window:  246\n",
      "Percentage:  88.13640936567582 %\n",
      "1513\n",
      "window:  247\n",
      "Percentage:  88.49468745252815 %\n",
      "1441\n",
      "window:  248\n",
      "Percentage:  88.8529655393805 %\n",
      "1525\n",
      "window:  249\n",
      "Percentage:  89.21124362623284 %\n",
      "1290\n",
      "window:  250\n",
      "Percentage:  89.56952171308518 %\n",
      "1539\n",
      "window:  251\n",
      "Percentage:  89.92779979993752 %\n",
      "1624\n",
      "window:  252\n",
      "Percentage:  90.28607788678985 %\n",
      "1538\n",
      "window:  253\n",
      "Percentage:  90.6443559736422 %\n",
      "1539\n",
      "window:  254\n",
      "Percentage:  91.00263406049453 %\n",
      "1539\n",
      "window:  255\n",
      "Percentage:  91.36091214734688 %\n",
      "1538\n",
      "window:  256\n",
      "Percentage:  91.71919023419922 %\n",
      "1567\n",
      "window:  257\n",
      "Percentage:  92.07746832105155 %\n",
      "1538\n",
      "window:  258\n",
      "Percentage:  92.4357464079039 %\n",
      "1539\n",
      "window:  259\n",
      "Percentage:  92.79402449475624 %\n",
      "1539\n",
      "window:  260\n",
      "Percentage:  93.15230258160858 %\n",
      "1452\n",
      "window:  261\n",
      "Percentage:  93.51058066846093 %\n",
      "1623\n",
      "window:  262\n",
      "Percentage:  93.86885875531327 %\n",
      "1538\n",
      "window:  263\n",
      "Percentage:  94.2271368421656 %\n",
      "1539\n",
      "window:  264\n",
      "Percentage:  94.58541492901796 %\n",
      "1538\n",
      "window:  265\n",
      "Percentage:  94.9436930158703 %\n",
      "1539\n",
      "window:  266\n",
      "Percentage:  95.30197110272263 %\n",
      "1624\n",
      "window:  267\n",
      "Percentage:  95.66024918957497 %\n",
      "1539\n",
      "window:  268\n",
      "Percentage:  96.0185272764273 %\n",
      "1539\n",
      "window:  269\n",
      "Percentage:  96.37680536327964 %\n",
      "1538\n",
      "window:  270\n",
      "Percentage:  96.73508345013198 %\n",
      "698\n",
      "window:  271\n",
      "Percentage:  97.09336153698433 %\n",
      "window:  272\n",
      "Percentage:  97.45163962383667 %\n",
      "217\n",
      "window:  273\n",
      "Percentage:  97.809917710689 %\n",
      "window:  274\n",
      "Percentage:  98.16819579754136 %\n",
      "window:  275\n",
      "Percentage:  98.5264738843937 %\n",
      "1007\n",
      "window:  276\n",
      "Percentage:  98.88475197124603 %\n",
      "1539\n",
      "window:  277\n",
      "Percentage:  99.24303005809838 %\n",
      "1880\n",
      "window:  278\n",
      "Percentage:  99.60130814495072 %\n",
      "1539\n",
      "window:  279\n",
      "Percentage:  99.95958623180306 %\n",
      "1387\n",
      "46\n"
     ]
    }
   ],
   "source": [
    "df_feature_windows, df_acc_sample = acc_windowizer(df_acc, 2, 1)"
   ]
  },
  {
   "cell_type": "code",
   "execution_count": 14,
   "metadata": {
    "ExecuteTime": {
     "end_time": "2020-04-15T03:53:56.544068Z",
     "start_time": "2020-04-15T03:53:56.536039Z"
    }
   },
   "outputs": [
    {
     "data": {
      "text/plain": [
       "0      0.000000\n",
       "1      0.000000\n",
       "2      0.000000\n",
       "3      0.000000\n",
       "4           NaN\n",
       "         ...   \n",
       "275    0.000000\n",
       "276    0.000000\n",
       "277    0.000000\n",
       "278    0.000000\n",
       "279    6.026405\n",
       "Name: psd_max_x_05_3, Length: 280, dtype: float64"
      ]
     },
     "execution_count": 14,
     "metadata": {},
     "output_type": "execute_result"
    }
   ],
   "source": []
  },
  {
   "cell_type": "code",
   "execution_count": 15,
   "metadata": {
    "ExecuteTime": {
     "end_time": "2020-04-15T03:54:06.041899Z",
     "start_time": "2020-04-15T03:54:06.035283Z"
    }
   },
   "outputs": [
    {
     "data": {
      "text/plain": [
       "0        191.885237\n",
       "1        162.327921\n",
       "2         16.154568\n",
       "3         60.795882\n",
       "4          2.138217\n",
       "           ...     \n",
       "275    26464.768077\n",
       "276    11897.648913\n",
       "277    14493.472232\n",
       "278    15262.301322\n",
       "279      974.467450\n",
       "Name: lmb_psd_max_x_05_3, Length: 280, dtype: float64"
      ]
     },
     "execution_count": 15,
     "metadata": {},
     "output_type": "execute_result"
    }
   ],
   "source": []
  },
  {
   "cell_type": "markdown",
   "metadata": {
    "ExecuteTime": {
     "end_time": "2020-04-01T18:48:12.177223Z",
     "start_time": "2020-04-01T18:48:12.117669Z"
    },
    "scrolled": true
   },
   "source": [
    "# df_feature_windows, df_acc_sample = acc_windowizer(df_acc, 1)"
   ]
  },
  {
   "cell_type": "code",
   "execution_count": null,
   "metadata": {
    "ExecuteTime": {
     "end_time": "2020-04-12T20:31:49.700648Z",
     "start_time": "2020-04-12T20:31:49.687103Z"
    }
   },
   "outputs": [],
   "source": [
    "df_feature_windows.sample_count"
   ]
  },
  {
   "cell_type": "code",
   "execution_count": null,
   "metadata": {
    "ExecuteTime": {
     "end_time": "2020-04-12T20:31:49.717863Z",
     "start_time": "2020-04-12T20:31:49.704477Z"
    }
   },
   "outputs": [],
   "source": [
    "df_feature_windows.sample_count.describe()"
   ]
  },
  {
   "cell_type": "code",
   "execution_count": null,
   "metadata": {
    "ExecuteTime": {
     "end_time": "2020-04-12T20:31:49.732331Z",
     "start_time": "2020-04-12T20:31:49.720849Z"
    }
   },
   "outputs": [],
   "source": [
    "df_feature_windows.columns.tolist()"
   ]
  },
  {
   "cell_type": "code",
   "execution_count": null,
   "metadata": {
    "ExecuteTime": {
     "end_time": "2020-04-12T20:31:49.747179Z",
     "start_time": "2020-04-12T20:31:49.736883Z"
    }
   },
   "outputs": [],
   "source": [
    "cov_matrix = np.cov(np.stack((df_acc[0:100].double_x,  df_acc[0:100].double_y, df_acc[0:100].double_z), axis=0))"
   ]
  },
  {
   "cell_type": "code",
   "execution_count": null,
   "metadata": {
    "ExecuteTime": {
     "end_time": "2020-04-12T20:31:49.763724Z",
     "start_time": "2020-04-12T20:31:49.752725Z"
    }
   },
   "outputs": [],
   "source": [
    "cov_matrix / (df_acc[0:100].double_y.std()*df_acc[0:100].double_z.std())"
   ]
  },
  {
   "cell_type": "code",
   "execution_count": null,
   "metadata": {
    "ExecuteTime": {
     "end_time": "2020-04-12T20:31:49.774225Z",
     "start_time": "2020-04-12T20:31:49.766770Z"
    }
   },
   "outputs": [],
   "source": [
    "A = [12,16,13,18,19,12,18,19,12,14]\n",
    "B = [73,67,74,63,73,84,60,62,76,71]\n"
   ]
  },
  {
   "cell_type": "code",
   "execution_count": null,
   "metadata": {
    "ExecuteTime": {
     "end_time": "2020-04-12T20:31:49.788150Z",
     "start_time": "2020-04-12T20:31:49.777580Z"
    }
   },
   "outputs": [],
   "source": [
    "np.std(A)"
   ]
  },
  {
   "cell_type": "code",
   "execution_count": null,
   "metadata": {
    "ExecuteTime": {
     "end_time": "2020-04-12T20:31:49.805266Z",
     "start_time": "2020-04-12T20:31:49.792447Z"
    }
   },
   "outputs": [],
   "source": [
    "np.std(B)"
   ]
  },
  {
   "cell_type": "code",
   "execution_count": null,
   "metadata": {
    "ExecuteTime": {
     "end_time": "2020-04-12T20:31:49.820689Z",
     "start_time": "2020-04-12T20:31:49.808322Z"
    }
   },
   "outputs": [],
   "source": [
    "np.cov(np.stack((A, B), axis=0)) / (np.std(A, ddof=1) * np.std(B, ddof=1))"
   ]
  },
  {
   "cell_type": "code",
   "execution_count": null,
   "metadata": {},
   "outputs": [],
   "source": []
  },
  {
   "cell_type": "code",
   "execution_count": null,
   "metadata": {
    "ExecuteTime": {
     "end_time": "2020-04-12T20:31:49.839449Z",
     "start_time": "2020-04-12T20:31:49.825316Z"
    }
   },
   "outputs": [],
   "source": [
    "cov_matrix"
   ]
  },
  {
   "cell_type": "code",
   "execution_count": null,
   "metadata": {
    "ExecuteTime": {
     "end_time": "2020-04-12T20:31:49.858570Z",
     "start_time": "2020-04-12T20:31:49.847903Z"
    }
   },
   "outputs": [],
   "source": [
    "np.correlate(df_acc[0:100].double_x,df_acc[0:100].double_y )"
   ]
  },
  {
   "cell_type": "code",
   "execution_count": null,
   "metadata": {
    "ExecuteTime": {
     "end_time": "2020-04-12T20:31:49.873961Z",
     "start_time": "2020-04-12T20:31:49.864767Z"
    }
   },
   "outputs": [],
   "source": [
    "np.abs(df_acc[0:100].double_x.to_numpy()).sum() + "
   ]
  },
  {
   "cell_type": "code",
   "execution_count": null,
   "metadata": {
    "ExecuteTime": {
     "end_time": "2020-04-12T20:31:49.874942Z",
     "start_time": "2020-04-12T20:31:32.019Z"
    }
   },
   "outputs": [],
   "source": [
    "def stft(x, NFFT=256, fs=2.0, noverlap=128, windowfunc=hann, zeropadding=\"sandwich\"):\n",
    "    \"\"\"\n",
    "    Calculate the short-time fourier transform of an input signal x\n",
    "\n",
    "    Parameters\n",
    "    ----------\n",
    "    x : 1-D signal array\n",
    "    Preferrably a numpy array\n",
    "    NFFT : int\n",
    "    Desired frequency resolution in bins (default 256)\n",
    "    fs : float\n",
    "    Sampling rate in Hz (default 2.0)\n",
    "    noverlap : int\n",
    "    Number of samples to overlap analysis windows (default 128)\n",
    "    windowfunc : function\n",
    "    Window function to apply before fft analysis (default `scipy.signal.hann`)\n",
    "    zeropadding : string\n",
    "    What kind of zero-padding to apply to `x` before analysis. One of:\n",
    "    * \"after\": `pad_amnt` zeros are added to the end of `x`\n",
    "    * \"sandwich\": `NFFT/2` zeros are added to beginning of `x`, followed by\n",
    "    `NFFT/2 + pad_amnt` zeros added to the end of `x`\n",
    "    `pad_amnt` is the number of samples required to pad `x` to the nearest\n",
    "    integer multiple of `NFFT`. Default padding strategy is \"sandwich\", which\n",
    "    yields nice properties when lining up time indices\n",
    "    \"\"\"\n",
    "\n",
    "    if noverlap >= NFFT:\n",
    "        raise ValueError(\"`noverlap` (%d) must be less than or equal to `NFFT` (%d)\" % (noverlap, NFFT))\n",
    "    step = (NFFT - noverlap)\n",
    "    pad_amnt = step - len(x) % step\n",
    "\n",
    "    nlen = len(x) // step\n",
    "    NFFT_2 = NFFT // 2\n",
    "    P = empty((NFFT_2, nlen))\n",
    "    window = windowfunc(NFFT)\n",
    "\n",
    "    if zeropadding == \"sandwich\":\n",
    "        x = hstack((zeros(NFFT_2), x, zeros(NFFT_2 + pad_amnt)))\n",
    "    elif zeropadding == \"after\":\n",
    "        x = hstack((x, zeros(pad_amnt)))\n",
    "    else:\n",
    "        raise ValueError(\"Unrecognized `zeropadding` value: \" + zeropadding)\n",
    "\n",
    "    for idx in range(nlen):\n",
    "        x_slice = x[idx step:idx step + NFFT]\n",
    "        P[:, idx] = abs(fft(x_slice * window)[:NFFT_2])\n",
    "    return P"
   ]
  },
  {
   "cell_type": "code",
   "execution_count": null,
   "metadata": {
    "ExecuteTime": {
     "end_time": "2020-04-12T20:31:49.880568Z",
     "start_time": "2020-04-12T20:31:32.132Z"
    }
   },
   "outputs": [],
   "source": [
    "time.mktime(df_acc.timestamp.iloc[0]/1000)\n"
   ]
  },
  {
   "cell_type": "code",
   "execution_count": null,
   "metadata": {
    "ExecuteTime": {
     "end_time": "2020-04-12T20:31:49.881946Z",
     "start_time": "2020-04-12T20:31:32.263Z"
    }
   },
   "outputs": [],
   "source": [
    "time_window = 60"
   ]
  },
  {
   "cell_type": "code",
   "execution_count": null,
   "metadata": {
    "ExecuteTime": {
     "end_time": "2020-04-12T20:31:49.884348Z",
     "start_time": "2020-04-12T20:31:32.402Z"
    }
   },
   "outputs": [],
   "source": [
    "(df_acc.timestamp.iloc[-1] - df_acc.timestamp.iloc[0]) / (time_window * 60000)"
   ]
  },
  {
   "cell_type": "code",
   "execution_count": null,
   "metadata": {
    "ExecuteTime": {
     "end_time": "2020-02-02T23:47:50.018699Z",
     "start_time": "2020-02-02T23:47:50.005313Z"
    }
   },
   "outputs": [],
   "source": []
  },
  {
   "cell_type": "code",
   "execution_count": null,
   "metadata": {
    "ExecuteTime": {
     "end_time": "2020-04-12T20:31:49.886306Z",
     "start_time": "2020-04-12T20:31:33.294Z"
    }
   },
   "outputs": [],
   "source": [
    "cA, cD = pywt.dwt(df_acc[0:30].double_x, 'haar')"
   ]
  },
  {
   "cell_type": "code",
   "execution_count": null,
   "metadata": {
    "ExecuteTime": {
     "end_time": "2020-04-12T20:31:49.890647Z",
     "start_time": "2020-04-12T20:31:33.521Z"
    }
   },
   "outputs": [],
   "source": [
    "pd.DataFrame(cD).plot()"
   ]
  },
  {
   "cell_type": "code",
   "execution_count": null,
   "metadata": {
    "ExecuteTime": {
     "end_time": "2020-04-12T20:31:49.892709Z",
     "start_time": "2020-04-12T20:31:34.019Z"
    }
   },
   "outputs": [],
   "source": [
    "df_acc[0:30].double_x.plot()"
   ]
  },
  {
   "cell_type": "code",
   "execution_count": null,
   "metadata": {
    "ExecuteTime": {
     "end_time": "2020-04-12T20:31:49.897279Z",
     "start_time": "2020-04-12T20:31:34.318Z"
    }
   },
   "outputs": [],
   "source": [
    "def ecdfRep(data, components):\n",
    "    #\n",
    "    #   rep = ecdfRep(data, components)\n",
    "    #\n",
    "    #   Estimate ecdf-representation according to \n",
    "    #     Hammerla, Nils Y., et al. \"On preserving statistical characteristics of \n",
    "    #     accelerometry data using their empirical cumulative distribution.\" \n",
    "    #     ISWC. ACM, 2013.\n",
    "    #\n",
    "    #   Input: \n",
    "    #       data        Nxd     Input data (rows = samples).\n",
    "    #       components  int     Number of components to extract per axis.\n",
    "    #\n",
    "    #   Output:\n",
    "    #       rep         Mx1     Data representation with M = d*components+d\n",
    "    #                           elements.\n",
    "    #\n",
    "    #   Nils Hammerla '15\n",
    "    #\n",
    "    m = data.mean(0)\n",
    "    data = np.sort(data, axis=0)\n",
    "    data = data[np.int32(np.around(np.linspace(0,data.shape[0]-1,num=components))),:]\n",
    "    data = data.flatten(1)\n",
    "    return np.hstack((data, m))\n",
    "\n",
    "\n"
   ]
  },
  {
   "cell_type": "code",
   "execution_count": null,
   "metadata": {
    "ExecuteTime": {
     "end_time": "2020-04-12T20:31:49.900114Z",
     "start_time": "2020-04-12T20:31:34.690Z"
    }
   },
   "outputs": [],
   "source": [
    "a = np.random.randn(100,3)\n",
    "e1 = ecdfRep(a,10)\n",
    "print(e1)\n"
   ]
  },
  {
   "cell_type": "code",
   "execution_count": null,
   "metadata": {
    "ExecuteTime": {
     "end_time": "2020-04-12T20:31:49.903498Z",
     "start_time": "2020-04-12T20:31:35.246Z"
    }
   },
   "outputs": [],
   "source": [
    "df_feature_windows.sample_count.describe()"
   ]
  },
  {
   "cell_type": "code",
   "execution_count": null,
   "metadata": {
    "ExecuteTime": {
     "end_time": "2020-04-12T20:31:49.909848Z",
     "start_time": "2020-04-12T20:31:35.690Z"
    }
   },
   "outputs": [],
   "source": [
    "pd.DataFrame(a)[0].plot()"
   ]
  },
  {
   "cell_type": "code",
   "execution_count": null,
   "metadata": {
    "ExecuteTime": {
     "end_time": "2020-04-12T20:31:49.915109Z",
     "start_time": "2020-04-12T20:31:36.131Z"
    }
   },
   "outputs": [],
   "source": [
    "plt.plot(df_acc_sample[df_acc_sample.window_id==0].timestamp, df_acc_sample[df_acc_sample.window_id==0].double_x)"
   ]
  },
  {
   "cell_type": "code",
   "execution_count": null,
   "metadata": {
    "ExecuteTime": {
     "end_time": "2020-04-15T03:23:07.377826Z",
     "start_time": "2020-04-15T03:23:07.369928Z"
    }
   },
   "outputs": [],
   "source": [
    "f = scipy.interpolate.interp1d(df_acc_sample[df_acc_sample.window_id==0].timestamp, df_acc_sample[df_acc_sample.window_id==0].double_x)"
   ]
  },
  {
   "cell_type": "code",
   "execution_count": null,
   "metadata": {
    "ExecuteTime": {
     "end_time": "2020-04-15T03:23:07.904368Z",
     "start_time": "2020-04-15T03:23:07.892485Z"
    }
   },
   "outputs": [],
   "source": [
    "df_acc_sample[df_acc_sample.window_id==0].double_x**2 + df_acc_sample[df_acc_sample.window_id==0].double_y**2+ df_acc_sample[df_acc_sample.window_id==0].double_z**2"
   ]
  },
  {
   "cell_type": "code",
   "execution_count": null,
   "metadata": {
    "ExecuteTime": {
     "end_time": "2020-04-15T03:23:08.268985Z",
     "start_time": "2020-04-15T03:23:08.064185Z"
    }
   },
   "outputs": [],
   "source": [
    "plt.plot(df_acc_sample[df_acc_sample.window_id==0].timestamp, f(df_acc_sample[df_acc_sample.window_id==0].timestamp))"
   ]
  },
  {
   "cell_type": "code",
   "execution_count": null,
   "metadata": {
    "ExecuteTime": {
     "end_time": "2020-04-15T03:23:09.237599Z",
     "start_time": "2020-04-15T03:23:09.036594Z"
    }
   },
   "outputs": [],
   "source": [
    "xnew = []\n",
    "step = (df_acc_sample[df_acc_sample.window_id==0].timestamp.iloc[-1] - df_acc_sample[df_acc_sample.window_id==0].timestamp.iloc[0]) / df_acc_sample[df_acc_sample.window_id==0].index.size\n",
    "for i in range(df_acc_sample[df_acc_sample.window_id==0].timestamp.iloc[0], df_acc_sample[df_acc_sample.window_id==0].timestamp.iloc[-1], int(step)):\n",
    "    xnew.append(i)\n",
    "plt.plot(xnew, f(xnew))"
   ]
  },
  {
   "cell_type": "code",
   "execution_count": null,
   "metadata": {
    "ExecuteTime": {
     "end_time": "2020-04-15T03:23:13.010930Z",
     "start_time": "2020-04-15T03:23:12.516251Z"
    }
   },
   "outputs": [],
   "source": [
    "sgnal = f(xnew)\n",
    "L = len(sgnal)\n",
    "freqs, Pxx_den = signal.periodogram(sgnal, window=signal.get_window('boxcar', len(sgnal)), fs=8.1)\n",
    "plt.semilogy(freqs, Pxx_den)\n",
    "plt.ylim([1e-5, 1e2])\n",
    "plt.xlabel('frequency [Hz]')\n",
    "plt.ylabel('PSD [V**2/Hz]')\n",
    "plt.show()"
   ]
  },
  {
   "cell_type": "code",
   "execution_count": null,
   "metadata": {
    "ExecuteTime": {
     "end_time": "2020-04-15T03:35:13.184579Z",
     "start_time": "2020-04-15T03:35:13.176291Z"
    }
   },
   "outputs": [],
   "source": [
    "int_fs = np.argwhere((freqs >= 0.5) & (freqs <= 3))\n",
    "freqs_int = freqs[int_fs]\n",
    "pdd = Pxx_den[int_fs]\n",
    "np.argmax(pdd)\n",
    "freqs_int[14]"
   ]
  },
  {
   "cell_type": "code",
   "execution_count": null,
   "metadata": {
    "ExecuteTime": {
     "end_time": "2020-04-15T03:36:59.335279Z",
     "start_time": "2020-04-15T03:36:58.875659Z"
    }
   },
   "outputs": [],
   "source": [
    "lmbs_f = np.linspace(0.5, 3, 10000)\n",
    "pgram = signal.lombscargle(df_acc_sample[df_acc_sample.window_id==0].timestamp, df_acc_sample[df_acc_sample.window_id==0].double_x, lmbs_f, normalize=True)\n",
    "plt.plot(lmbs_f, pgram)\n",
    "lmbs_f[np.argmax(pgram)]"
   ]
  },
  {
   "cell_type": "code",
   "execution_count": null,
   "metadata": {
    "ExecuteTime": {
     "end_time": "2020-04-15T03:35:29.414562Z",
     "start_time": "2020-04-15T03:35:29.409852Z"
    }
   },
   "outputs": [],
   "source": [
    "Pxx_den = Pxx_den"
   ]
  },
  {
   "cell_type": "code",
   "execution_count": null,
   "metadata": {
    "ExecuteTime": {
     "end_time": "2020-04-15T03:35:31.996968Z",
     "start_time": "2020-04-15T03:35:31.991381Z"
    }
   },
   "outputs": [],
   "source": [
    "np.mean(Pxx_den) # PSD "
   ]
  },
  {
   "cell_type": "code",
   "execution_count": null,
   "metadata": {
    "ExecuteTime": {
     "end_time": "2020-04-14T20:35:57.598438Z",
     "start_time": "2020-04-14T20:35:57.592794Z"
    }
   },
   "outputs": [],
   "source": [
    "Y = fftpack.fft(sgnal, 512)\n",
    "np.dot(np.real(Y), np.real(Y))"
   ]
  },
  {
   "cell_type": "code",
   "execution_count": null,
   "metadata": {},
   "outputs": [],
   "source": []
  },
  {
   "cell_type": "code",
   "execution_count": null,
   "metadata": {
    "ExecuteTime": {
     "end_time": "2020-04-14T17:19:13.689538Z",
     "start_time": "2020-04-14T17:19:13.684348Z"
    }
   },
   "outputs": [],
   "source": [
    "(np.sum(np.real(Y)**2 + np.imag(Y)**2)) / L"
   ]
  },
  {
   "cell_type": "code",
   "execution_count": null,
   "metadata": {
    "ExecuteTime": {
     "end_time": "2020-04-14T17:45:43.681525Z",
     "start_time": "2020-04-14T17:45:43.667165Z"
    },
    "scrolled": true
   },
   "outputs": [],
   "source": [
    "np.sqrt(np.real(Y)**2  + np.imag(Y)**2) / np.sum(np.sqrt(np.real(Y)**2  + np.imag(Y)**2))"
   ]
  },
  {
   "cell_type": "code",
   "execution_count": null,
   "metadata": {
    "ExecuteTime": {
     "end_time": "2020-04-14T14:59:23.324730Z",
     "start_time": "2020-04-14T14:59:23.319095Z"
    }
   },
   "outputs": [],
   "source": [
    "LA.norm(np.mean(Y[1:]))"
   ]
  },
  {
   "cell_type": "code",
   "execution_count": null,
   "metadata": {
    "ExecuteTime": {
     "end_time": "2020-04-11T17:47:18.913582Z",
     "start_time": "2020-04-11T17:47:18.541203Z"
    },
    "scrolled": true
   },
   "outputs": [],
   "source": [
    "f, Pxx_spec = signal.periodogram(sgnal, 8.1, 'flattop', scaling='spectrum')\n",
    "plt.figure()\n",
    "plt.semilogy(f, np.sqrt(Pxx_spec))\n",
    "plt.xlabel('frequency [Hz]')\n",
    "plt.ylabel('Linear spectrum [V RMS]')\n",
    "plt.show()"
   ]
  },
  {
   "cell_type": "code",
   "execution_count": null,
   "metadata": {
    "ExecuteTime": {
     "end_time": "2020-04-11T17:47:46.332919Z",
     "start_time": "2020-04-11T17:47:46.328086Z"
    }
   },
   "outputs": [],
   "source": [
    "np.mean(Pxx_spec)"
   ]
  },
  {
   "cell_type": "code",
   "execution_count": null,
   "metadata": {
    "ExecuteTime": {
     "end_time": "2020-04-03T13:49:18.577779Z",
     "start_time": "2020-04-03T13:49:18.561723Z"
    },
    "scrolled": true
   },
   "outputs": [],
   "source": [
    "Amplitude = np.abs(sig_fft)\n",
    "psd = Amplitude**2\n",
    "Angle = np.angle(sig_fft)"
   ]
  },
  {
   "cell_type": "code",
   "execution_count": null,
   "metadata": {
    "ExecuteTime": {
     "end_time": "2020-04-03T13:50:23.545853Z",
     "start_time": "2020-04-03T13:50:23.529863Z"
    },
    "scrolled": true
   },
   "outputs": [],
   "source": [
    "sample_freq = fftpack.fftfreq(f(xnew).size, d=0.05)\n",
    "sample_freq"
   ]
  },
  {
   "cell_type": "code",
   "execution_count": null,
   "metadata": {
    "ExecuteTime": {
     "end_time": "2020-04-02T18:22:25.899838Z",
     "start_time": "2020-04-02T18:22:25.894436Z"
    }
   },
   "outputs": [],
   "source": [
    "df_feature_windows.index.size"
   ]
  },
  {
   "cell_type": "code",
   "execution_count": null,
   "metadata": {
    "ExecuteTime": {
     "end_time": "2020-04-14T12:47:19.062799Z",
     "start_time": "2020-04-14T12:47:19.059750Z"
    }
   },
   "outputs": [],
   "source": [
    "ld = OrderedDict()\n",
    "ld.update({'min':True})"
   ]
  },
  {
   "cell_type": "code",
   "execution_count": null,
   "metadata": {
    "ExecuteTime": {
     "end_time": "2020-04-14T12:47:32.275132Z",
     "start_time": "2020-04-14T12:47:32.270419Z"
    }
   },
   "outputs": [],
   "source": [
    "if ld['min']:\n",
    "    print(\"yes\")"
   ]
  },
  {
   "cell_type": "code",
   "execution_count": null,
   "metadata": {
    "ExecuteTime": {
     "end_time": "2020-04-14T13:05:37.852751Z",
     "start_time": "2020-04-14T13:05:37.848973Z"
    }
   },
   "outputs": [],
   "source": [
    "xx= ['int_desc', 'int_rms', 'mag_desc', 'pear_coef', 'sma', 'svm', 'ecdf_5', 'dc_comp', 'psd', 'psd_welch', 'psd_ls']"
   ]
  },
  {
   "cell_type": "code",
   "execution_count": null,
   "metadata": {
    "ExecuteTime": {
     "end_time": "2020-04-14T13:05:48.465869Z",
     "start_time": "2020-04-14T13:05:48.462554Z"
    }
   },
   "outputs": [],
   "source": [
    "for x in xx:\n",
    "    print(x)"
   ]
  },
  {
   "cell_type": "code",
   "execution_count": null,
   "metadata": {
    "ExecuteTime": {
     "end_time": "2020-04-15T03:19:56.196241Z",
     "start_time": "2020-04-15T03:19:56.186005Z"
    }
   },
   "outputs": [],
   "source": [
    "import matplotlib.pyplot as plt\n",
    "A = 2.\n",
    "w = 1.\n",
    "phi = 0.5 * np.pi\n",
    "nin = 1000\n",
    "nout = 100000\n",
    "frac_points = 0.9 # Fraction of points to select\n",
    "r = np.random.rand(nin)\n",
    "x = np.linspace(0.01, 10*np.pi, nin)\n",
    "x = x[r >= frac_points]\n",
    "x"
   ]
  },
  {
   "cell_type": "code",
   "execution_count": null,
   "metadata": {
    "ExecuteTime": {
     "end_time": "2020-04-15T03:19:56.981094Z",
     "start_time": "2020-04-15T03:19:56.976549Z"
    }
   },
   "outputs": [],
   "source": [
    "y = A * np.sin(w*x+phi)"
   ]
  },
  {
   "cell_type": "code",
   "execution_count": null,
   "metadata": {
    "ExecuteTime": {
     "end_time": "2020-04-15T03:19:57.679598Z",
     "start_time": "2020-04-15T03:19:57.470360Z"
    }
   },
   "outputs": [],
   "source": [
    "plt.plot(x,y)"
   ]
  },
  {
   "cell_type": "code",
   "execution_count": null,
   "metadata": {
    "ExecuteTime": {
     "end_time": "2020-04-15T03:19:58.432931Z",
     "start_time": "2020-04-15T03:19:58.424433Z"
    }
   },
   "outputs": [],
   "source": [
    "f = np.linspace(0.01, 10, nout)\n",
    "f"
   ]
  },
  {
   "cell_type": "code",
   "execution_count": null,
   "metadata": {
    "ExecuteTime": {
     "end_time": "2020-04-15T03:19:59.410569Z",
     "start_time": "2020-04-15T03:19:59.093170Z"
    }
   },
   "outputs": [],
   "source": [
    "import scipy.signal as signal\n",
    "pgram = signal.lombscargle(x, y, f, normalize=False)"
   ]
  },
  {
   "cell_type": "code",
   "execution_count": null,
   "metadata": {
    "ExecuteTime": {
     "end_time": "2020-04-15T03:20:00.370832Z",
     "start_time": "2020-04-15T03:20:00.131448Z"
    }
   },
   "outputs": [],
   "source": [
    "plt.subplot(2, 1, 1)\n",
    "plt.plot(x, y, 'b+')"
   ]
  },
  {
   "cell_type": "code",
   "execution_count": null,
   "metadata": {
    "ExecuteTime": {
     "end_time": "2020-04-15T03:20:01.101364Z",
     "start_time": "2020-04-15T03:20:00.904184Z"
    }
   },
   "outputs": [],
   "source": [
    "plt.plot(f, pgram)\n"
   ]
  },
  {
   "cell_type": "code",
   "execution_count": null,
   "metadata": {
    "ExecuteTime": {
     "end_time": "2020-04-15T02:19:33.988990Z",
     "start_time": "2020-04-15T02:19:33.981148Z"
    }
   },
   "outputs": [],
   "source": [
    "np.max(pgram)\n",
    "f[np.argmax(pgram)]"
   ]
  },
  {
   "cell_type": "code",
   "execution_count": null,
   "metadata": {},
   "outputs": [],
   "source": []
  }
 ],
 "metadata": {
  "kernelspec": {
   "display_name": "Python 3",
   "language": "python",
   "name": "python3"
  },
  "language_info": {
   "codemirror_mode": {
    "name": "ipython",
    "version": 3
   },
   "file_extension": ".py",
   "mimetype": "text/x-python",
   "name": "python",
   "nbconvert_exporter": "python",
   "pygments_lexer": "ipython3",
   "version": "3.7.3"
  }
 },
 "nbformat": 4,
 "nbformat_minor": 2
}
