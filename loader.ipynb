{
 "cells": [
  {
   "cell_type": "code",
   "execution_count": 95,
   "metadata": {},
   "outputs": [],
   "source": [
    "import pandas as pd\n",
    "import os.path\n",
    "from os import path"
   ]
  },
  {
   "cell_type": "code",
   "execution_count": 96,
   "metadata": {},
   "outputs": [],
   "source": [
    "device_id_filter = pd.read_csv(\"../../../data/fullsnap.csv\").device_id_full.dropna().tolist()\n",
    "splits_folder = '/Volumes/NAPALM/WORKSTATION/cs6999/data/accelerometer_splits/'"
   ]
  },
  {
   "cell_type": "code",
   "execution_count": 97,
   "metadata": {},
   "outputs": [
    {
     "name": "stdout",
     "output_type": "stream",
     "text": [
      "**Processing chunk # 0\n"
     ]
    }
   ],
   "source": [
    "chunksize = int(10**9 / 115)\n",
    "chunkno = 0\n",
    "for chunk in pd.read_csv('/Volumes/NAPALM/WORKSTATION/cs6999/data/accelerometer.txt',  header=None, chunksize=chunksize, nrows = chunksize):\n",
    "    print(\"**Processing chunk #\", chunkno)\n",
    "    chunk.to_csv('/Volumes/NAPALM/WORKSTATION/cs6999/data/chunk.txt')\n",
    "#     for unique_id in chunk[2].unique():\n",
    "#         if unique_id in device_id_filter:\n",
    "#             clean_chunk = chunk[chunk[2] == unique_id]\n",
    "#             #create csv file\n",
    "#             with open(splits_folder + unique_id + \".csv\", mode='a') as split_file:\n",
    "#                 clean_chunk.to_csv(split_file, header=False)\n",
    "            "
   ]
  },
  {
   "cell_type": "code",
   "execution_count": null,
   "metadata": {},
   "outputs": [],
   "source": [
    "print(\"Done\")"
   ]
  },
  {
   "cell_type": "code",
   "execution_count": null,
   "metadata": {},
   "outputs": [],
   "source": []
  },
  {
   "cell_type": "code",
   "execution_count": null,
   "metadata": {},
   "outputs": [],
   "source": []
  },
  {
   "cell_type": "code",
   "execution_count": null,
   "metadata": {},
   "outputs": [],
   "source": []
  },
  {
   "cell_type": "code",
   "execution_count": null,
   "metadata": {},
   "outputs": [],
   "source": []
  }
 ],
 "metadata": {
  "kernelspec": {
   "display_name": "Python 3",
   "language": "python",
   "name": "python3"
  },
  "language_info": {
   "codemirror_mode": {
    "name": "ipython",
    "version": 3
   },
   "file_extension": ".py",
   "mimetype": "text/x-python",
   "name": "python",
   "nbconvert_exporter": "python",
   "pygments_lexer": "ipython3",
   "version": "3.7.3"
  }
 },
 "nbformat": 4,
 "nbformat_minor": 2
}
